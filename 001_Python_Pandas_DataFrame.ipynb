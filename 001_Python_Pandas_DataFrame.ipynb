{
 "cells": [
  {
   "cell_type": "markdown",
   "metadata": {
    "lang": "fr"
   },
   "source": [
    "# Pandas Python\n",
    "\n",
    "**[Pandas](https://pandas.pydata.org/)** est une bibliothèque Python fournissant un outil de structures de données rapide, flexible, pratique et expressif conçu pour rendre le travail avec des données « relationnelles » ou « étiquetées » à la fois simple et intuitif. Il vise à être le bloc de construction fondamental de haut niveau pour effectuer une analyse pratique et réelle de données complexes en Python.\n",
    "\n",
    "pandas est bien adapté à de nombreux types de données :\n",
    "\n",
    "* Données tabulaires avec des colonnes typées de manière hétérogène, comme dans une table SQL ou une feuille de calcul Excel\n",
    "* Données de séries chronologiques ordonnées et non ordonnées (pas nécessairement à fréquence fixe).\n",
    "* Données matricielles arbitraires avec des étiquettes de ligne et de colonne\n",
    "* Toute autre forme d'ensembles de données observationnelles/statistiques."
   ]
  },
  {
   "cell_type": "markdown",
   "metadata": {
    "lang": "fr"
   },
   "source": [
    "# DataFrame\n",
    "\n",
    "Dans cette leçon, vous apprendrez pandas DataFrame. Il couvre les bases de DataFrame, ses attributs, ses fonctions et comment utiliser DataFrame pour l'analyse de données.\n",
    "\n",
    "DataFrame est la structure de données la plus utilisée dans pandas. Vous pouvez l'imaginer comme un tableau dans une base de données ou une feuille de calcul.\n",
    "\n",
    "Imaginez que vous avez une salle d'exposition automobile et que vous souhaitez analyser les données des voitures pour élaborer des stratégies commerciales. Par exemple, vous devez vérifier combien de véhicules vous avez dans votre salle d'exposition de type berline, ou les voitures qui donnent un bon kilométrage. Pour une telle analyse, pandas DataFrame est utilisé."
   ]
  },
  {
   "cell_type": "markdown",
   "metadata": {
    "lang": "en"
   },
   "source": [
    "## Qu'est-ce qu'un DataFrame ?\n",
    "\n",
    "Dataframe est une représentation tabulaire (lignes, colonnes) de données. Il s'agit d'une structure de données bidimensionnelle avec des données potentiellement hétérogènes.\n",
    "\n",
    "Dataframe est une structure variable en taille, ce qui signifie que des données peuvent y être ajoutées ou supprimées, contrairement aux séries de données, qui n'autorisent pas les opérations qui modifient sa taille.\n",
    "\n",
    "<div>\n",
    "<img src=\"img/dataframe.png\" width=\"600\"/>\n",
    "</div>"
   ]
  },
  {
   "cell_type": "markdown",
   "metadata": {
    "lang": "fr"
   },
   "source": [
    "## Création de DataFrame\n",
    "\n",
    "Les données sont disponibles sous différentes formes et types tels que CSV, table SQL, JSON ou structures Python telles que liste, dict, etc. Nous devons convertir tous ces différents formats de données en un DataFrame afin de pouvoir utiliser les bibliothèques pandas pour analyser ces données efficacement.\n",
    "\n",
    "Pour créer un DataFrame, nous pouvons utiliser soit le constructeur DataFrame, soit les fonctions intégrées de pandas. Voici quelques exemples."
   ]
  },
  {
   "cell_type": "markdown",
   "metadata": {},
   "source": [
    "### DataFrame constructor\n",
    "\n",
    "```python\n",
    "pandas.DataFrame(data=None, index=None, columns=None, dtype=None, copy=False)\n",
    "```"
   ]
  },
  {
   "cell_type": "markdown",
   "metadata": {
    "lang": "fr"
   },
   "source": [
    "#### Paramètres:\n",
    "\n",
    "* **`data`**: il prend l'entrée **`dict`**,**`list`**,**`set`**,**`ndarray`**,**`iterable`**, ou **DataFrame**. Si l'entrée n'est pas fournie, il crée un DataFrame vide. L'ordre des colonnes résultant suit l'ordre d'insertion.\n",
    "\n",
    "\n",
    "* **`index`** : (facultatif) il prend la liste des index de ligne pour le DataFrame. La valeur par défaut est une plage d'entiers 0, 1,…n.\n",
    "* **`columns`** : (Facultatif) Il prend la liste des colonnes pour le DataFrame. La valeur par défaut est une plage d'entiers 0, 1,…n.\n",
    "\n",
    "\n",
    "* **`dtype`** : (facultatif) par défaut, il déduit le type de données à partir des données, mais cette option applique tout type de données spécifique à l'ensemble du DataFrame.\n",
    "* **`copy`** : (facultatif) copiez les données des entrées. Booléen, Faux par défaut. N'affecte que les entrées DataFrame ou de type tableau 2D"
   ]
  },
  {
   "cell_type": "markdown",
   "metadata": {
    "lang": "fr"
   },
   "source": [
    "Reportez-vous aux notebooks suivants pour plus de détails :\n",
    "\n",
    "* **[Créer des pandas DataFrame à partir du dictionnaire Python]( 001_Python_Pandas_Methods/001_Python_Pandas_DataFrame_from_Dictionary.ipynb)**\n",
    "* **[Créer des pandas DataFrame à partir de la liste Python]( 001_Python_Pandas_Methods/002_Python_Pandas_DataFrame_from_List.ipynb)**"
   ]
  },
  {
   "cell_type": "markdown",
   "metadata": {
    "lang": "fr"
   },
   "source": [
    "### Dataframe a partir d'un dict\n",
    "\n",
    "Lorsque nous avons des données dans **`dict`** ou dans toute structure de données par défaut en Python, nous pouvons les convertir en DataFrame à l'aide du constructeur DataFrame.\n",
    "\n",
    "Pour construire un DataFrame à partir d'un objet **`dict`**, nous pouvons le passer au constructeur DataFrame **`pd.DataFrame(dict)`**. Il crée DataFrame en utilisant le dictionnaire, où les clés de **`dict`** seront les étiquettes de colonne, et les valeurs de **`dict`** seront les données des colonnes. Nous pouvons également utiliser la fonction **`DataFrame.from_dict()`** pour **[Create DataFrame from dict](001_Python_Pandas_Methods/001_Python_Pandas_DataFrame_from_Dictionary.ipynb)**.\n",
    "\n",
    "**Clé et importations :**\n",
    "\n",
    "| Opérateur | Description |\n",
    "|:----: |:---- |\n",
    "| **`df`** | **objet Pandas DataFrame** |\n",
    "| **`s`** | **objet série pandas** |"
   ]
  },
  {
   "cell_type": "code",
   "execution_count": 2,
   "metadata": {
    "ExecuteTime": {
     "end_time": "2021-07-06T16:31:40.726150Z",
     "start_time": "2021-07-06T16:31:40.693928Z"
    }
   },
   "outputs": [
    {
     "data": {
      "text/plain": [
       "{'Name': ['Diallo', 'Bah'], 'Age': [23, 22], 'Marks': [85.1, 77.8]}"
      ]
     },
     "execution_count": 2,
     "metadata": {},
     "output_type": "execute_result"
    }
   ],
   "source": [
    "# Example: \n",
    "\n",
    "student_dict = {'Name':['Diallo','Bah'], 'Age':[23,22], 'Marks':[85.10, 77.80]}\n",
    "student_dict"
   ]
  },
  {
   "cell_type": "markdown",
   "metadata": {
    "lang": "fr"
   },
   "source": [
    "**'Name'**, **'Age'** et **'Marks'** sont les clés dans le **`dict`** lors de la conversion, ils deviendront les étiquettes de colonne du DataFrame."
   ]
  },
  {
   "cell_type": "code",
   "execution_count": 8,
   "metadata": {
    "ExecuteTime": {
     "end_time": "2021-07-06T16:31:42.199775Z",
     "start_time": "2021-07-06T16:31:40.732987Z"
    }
   },
   "outputs": [
    {
     "name": "stdout",
     "output_type": "stream",
     "text": [
      "     Name  Age  Marks\n",
      "0  Diallo   23   85.1\n",
      "1     Bah   22   77.8\n"
     ]
    }
   ],
   "source": [
    "import pandas as pd\n",
    "\n",
    "# Objet dict Python\n",
    "student_dict = {'Name': ['Diallo', 'Bah'], 'Age': [23, 22], 'Marks': [85.10, 77.80]}\n",
    "#print(student_dict)\n",
    "\n",
    "# Creer un dataframe à partir d'un dictionnaire\n",
    "student_df = pd.DataFrame(student_dict)\n",
    "print(student_df)"
   ]
  },
  {
   "cell_type": "code",
   "execution_count": 4,
   "metadata": {
    "ExecuteTime": {
     "end_time": "2021-07-06T16:31:42.231025Z",
     "start_time": "2021-07-06T16:31:42.203683Z"
    },
    "scrolled": true
   },
   "outputs": [
    {
     "name": "stdout",
     "output_type": "stream",
     "text": [
      "    X   Y   Z\n",
      "0  78  84  86\n",
      "1  85  94  97\n",
      "2  96  89  96\n",
      "3  80  83  72\n",
      "4  86  86  83\n"
     ]
    }
   ],
   "source": [
    "# Exemple\n",
    "\n",
    "import pandas as pd\n",
    "\n",
    "# Nous passons un dictionnaire de {column name: column values}\n",
    "df = pd.DataFrame({'X':[78,85,96,80,86], 'Y':[84,94,89,83,86],'Z':[86,97,96,72,83]});\n",
    "print(df)"
   ]
  },
  {
   "cell_type": "code",
   "execution_count": 5,
   "metadata": {
    "ExecuteTime": {
     "end_time": "2021-07-06T16:31:42.417065Z",
     "start_time": "2021-07-06T16:31:42.233957Z"
    }
   },
   "outputs": [
    {
     "data": {
      "text/html": [
       "<div>\n",
       "<style scoped>\n",
       "    .dataframe tbody tr th:only-of-type {\n",
       "        vertical-align: middle;\n",
       "    }\n",
       "\n",
       "    .dataframe tbody tr th {\n",
       "        vertical-align: top;\n",
       "    }\n",
       "\n",
       "    .dataframe thead th {\n",
       "        text-align: right;\n",
       "    }\n",
       "</style>\n",
       "<table border=\"1\" class=\"dataframe\">\n",
       "  <thead>\n",
       "    <tr style=\"text-align: right;\">\n",
       "      <th></th>\n",
       "      <th>A</th>\n",
       "      <th>B</th>\n",
       "      <th>C</th>\n",
       "    </tr>\n",
       "  </thead>\n",
       "  <tbody>\n",
       "    <tr>\n",
       "      <th>a</th>\n",
       "      <td>1</td>\n",
       "      <td>True</td>\n",
       "      <td>0.496714</td>\n",
       "    </tr>\n",
       "    <tr>\n",
       "      <th>b</th>\n",
       "      <td>2</td>\n",
       "      <td>True</td>\n",
       "      <td>-0.138264</td>\n",
       "    </tr>\n",
       "    <tr>\n",
       "      <th>c</th>\n",
       "      <td>3</td>\n",
       "      <td>False</td>\n",
       "      <td>0.647689</td>\n",
       "    </tr>\n",
       "  </tbody>\n",
       "</table>\n",
       "</div>"
      ],
      "text/plain": [
       "   A      B         C\n",
       "a  1   True  0.496714\n",
       "b  2   True -0.138264\n",
       "c  3  False  0.647689"
      ]
     },
     "execution_count": 5,
     "metadata": {},
     "output_type": "execute_result"
    }
   ],
   "source": [
    "# Exemple\n",
    "\n",
    "import pandas as pd\n",
    "\n",
    "df = pd.DataFrame({\n",
    "                    'A': [1, 2, 3], 'B': [True, True, False],\n",
    "                    'C': [0.496714, -0.138264, 0.647689]\n",
    "                  },index=['a', 'b', 'c'])  \n",
    "df"
   ]
  },
  {
   "cell_type": "markdown",
   "metadata": {
    "lang": "fr"
   },
   "source": [
    "### Indexation\n",
    "\n",
    "Notre première amélioration par rapport aux tableaux numpy est l'indexation étiquetée. Nous pouvons sélectionner des sous-ensembles par colonne, ligne ou les deux. La sélection de colonne utilise la machinerie python régulière **`__getitem__`**. Transmettez une étiquette de colonne unique **`'A'`** ou une liste d'étiquettes **`['A', 'C']`** pour sélectionner des sous-ensembles de l'original  **`DataFrame`**."
   ]
  },
  {
   "cell_type": "code",
   "execution_count": 6,
   "metadata": {
    "ExecuteTime": {
     "end_time": "2021-07-06T16:31:42.540108Z",
     "start_time": "2021-07-06T16:31:42.424873Z"
    }
   },
   "outputs": [
    {
     "data": {
      "text/plain": [
       "a    1\n",
       "b    2\n",
       "c    3\n",
       "Name: A, dtype: int64"
      ]
     },
     "execution_count": 6,
     "metadata": {},
     "output_type": "execute_result"
    }
   ],
   "source": [
    "# Colonne unique, réduite à une série\n",
    "df['A']"
   ]
  },
  {
   "cell_type": "code",
   "execution_count": 7,
   "metadata": {
    "ExecuteTime": {
     "end_time": "2021-07-06T16:31:42.679754Z",
     "start_time": "2021-07-06T16:31:42.544013Z"
    }
   },
   "outputs": [
    {
     "data": {
      "text/html": [
       "<div>\n",
       "<style scoped>\n",
       "    .dataframe tbody tr th:only-of-type {\n",
       "        vertical-align: middle;\n",
       "    }\n",
       "\n",
       "    .dataframe tbody tr th {\n",
       "        vertical-align: top;\n",
       "    }\n",
       "\n",
       "    .dataframe thead th {\n",
       "        text-align: right;\n",
       "    }\n",
       "</style>\n",
       "<table border=\"1\" class=\"dataframe\">\n",
       "  <thead>\n",
       "    <tr style=\"text-align: right;\">\n",
       "      <th></th>\n",
       "      <th>A</th>\n",
       "      <th>C</th>\n",
       "    </tr>\n",
       "  </thead>\n",
       "  <tbody>\n",
       "    <tr>\n",
       "      <th>a</th>\n",
       "      <td>1</td>\n",
       "      <td>0.496714</td>\n",
       "    </tr>\n",
       "    <tr>\n",
       "      <th>b</th>\n",
       "      <td>2</td>\n",
       "      <td>-0.138264</td>\n",
       "    </tr>\n",
       "    <tr>\n",
       "      <th>c</th>\n",
       "      <td>3</td>\n",
       "      <td>0.647689</td>\n",
       "    </tr>\n",
       "  </tbody>\n",
       "</table>\n",
       "</div>"
      ],
      "text/plain": [
       "   A         C\n",
       "a  1  0.496714\n",
       "b  2 -0.138264\n",
       "c  3  0.647689"
      ]
     },
     "execution_count": 7,
     "metadata": {},
     "output_type": "execute_result"
    }
   ],
   "source": [
    "cols = ['A', 'C']\n",
    "df[cols]"
   ]
  },
  {
   "cell_type": "markdown",
   "metadata": {
    "lang": "fr"
   },
   "source": [
    "Pour une sélection par ligne, utilisez l'accesseur spécial **`.loc`**."
   ]
  },
  {
   "cell_type": "code",
   "execution_count": 8,
   "metadata": {
    "ExecuteTime": {
     "end_time": "2021-07-06T16:31:42.803777Z",
     "start_time": "2021-07-06T16:31:42.686591Z"
    }
   },
   "outputs": [
    {
     "data": {
      "text/html": [
       "<div>\n",
       "<style scoped>\n",
       "    .dataframe tbody tr th:only-of-type {\n",
       "        vertical-align: middle;\n",
       "    }\n",
       "\n",
       "    .dataframe tbody tr th {\n",
       "        vertical-align: top;\n",
       "    }\n",
       "\n",
       "    .dataframe thead th {\n",
       "        text-align: right;\n",
       "    }\n",
       "</style>\n",
       "<table border=\"1\" class=\"dataframe\">\n",
       "  <thead>\n",
       "    <tr style=\"text-align: right;\">\n",
       "      <th></th>\n",
       "      <th>A</th>\n",
       "      <th>B</th>\n",
       "      <th>C</th>\n",
       "    </tr>\n",
       "  </thead>\n",
       "  <tbody>\n",
       "    <tr>\n",
       "      <th>a</th>\n",
       "      <td>1</td>\n",
       "      <td>True</td>\n",
       "      <td>0.496714</td>\n",
       "    </tr>\n",
       "    <tr>\n",
       "      <th>b</th>\n",
       "      <td>2</td>\n",
       "      <td>True</td>\n",
       "      <td>-0.138264</td>\n",
       "    </tr>\n",
       "  </tbody>\n",
       "</table>\n",
       "</div>"
      ],
      "text/plain": [
       "   A     B         C\n",
       "a  1  True  0.496714\n",
       "b  2  True -0.138264"
      ]
     },
     "execution_count": 8,
     "metadata": {},
     "output_type": "execute_result"
    }
   ],
   "source": [
    "df.loc[['a', 'b']]"
   ]
  },
  {
   "cell_type": "markdown",
   "metadata": {
    "lang": "fr"
   },
   "source": [
    "Vous pouvez utiliser des plages pour sélectionner des lignes ou des colonnes."
   ]
  },
  {
   "cell_type": "code",
   "execution_count": 9,
   "metadata": {
    "ExecuteTime": {
     "end_time": "2021-07-06T16:31:42.988833Z",
     "start_time": "2021-07-06T16:31:42.810616Z"
    }
   },
   "outputs": [
    {
     "data": {
      "text/html": [
       "<div>\n",
       "<style scoped>\n",
       "    .dataframe tbody tr th:only-of-type {\n",
       "        vertical-align: middle;\n",
       "    }\n",
       "\n",
       "    .dataframe tbody tr th {\n",
       "        vertical-align: top;\n",
       "    }\n",
       "\n",
       "    .dataframe thead th {\n",
       "        text-align: right;\n",
       "    }\n",
       "</style>\n",
       "<table border=\"1\" class=\"dataframe\">\n",
       "  <thead>\n",
       "    <tr style=\"text-align: right;\">\n",
       "      <th></th>\n",
       "      <th>A</th>\n",
       "      <th>B</th>\n",
       "      <th>C</th>\n",
       "    </tr>\n",
       "  </thead>\n",
       "  <tbody>\n",
       "    <tr>\n",
       "      <th>a</th>\n",
       "      <td>1</td>\n",
       "      <td>True</td>\n",
       "      <td>0.496714</td>\n",
       "    </tr>\n",
       "    <tr>\n",
       "      <th>b</th>\n",
       "      <td>2</td>\n",
       "      <td>True</td>\n",
       "      <td>-0.138264</td>\n",
       "    </tr>\n",
       "  </tbody>\n",
       "</table>\n",
       "</div>"
      ],
      "text/plain": [
       "   A     B         C\n",
       "a  1  True  0.496714\n",
       "b  2  True -0.138264"
      ]
     },
     "execution_count": 9,
     "metadata": {},
     "output_type": "execute_result"
    }
   ],
   "source": [
    "df.loc['a':'b']"
   ]
  },
  {
   "cell_type": "markdown",
   "metadata": {
    "lang": "fr"
   },
   "source": [
    "Notez que la tranche est *inclusive* des deux côtés, contrairement à votre découpage typique d'une liste. Parfois, vous préférez découper par *position* au lieu de l'étiquette. **`.iloc`** est la pour cela :"
   ]
  },
  {
   "cell_type": "code",
   "execution_count": 10,
   "metadata": {
    "ExecuteTime": {
     "end_time": "2021-07-06T16:31:43.127996Z",
     "start_time": "2021-07-06T16:31:42.997624Z"
    }
   },
   "outputs": [
    {
     "data": {
      "text/html": [
       "<div>\n",
       "<style scoped>\n",
       "    .dataframe tbody tr th:only-of-type {\n",
       "        vertical-align: middle;\n",
       "    }\n",
       "\n",
       "    .dataframe tbody tr th {\n",
       "        vertical-align: top;\n",
       "    }\n",
       "\n",
       "    .dataframe thead th {\n",
       "        text-align: right;\n",
       "    }\n",
       "</style>\n",
       "<table border=\"1\" class=\"dataframe\">\n",
       "  <thead>\n",
       "    <tr style=\"text-align: right;\">\n",
       "      <th></th>\n",
       "      <th>A</th>\n",
       "      <th>B</th>\n",
       "      <th>C</th>\n",
       "    </tr>\n",
       "  </thead>\n",
       "  <tbody>\n",
       "    <tr>\n",
       "      <th>a</th>\n",
       "      <td>1</td>\n",
       "      <td>True</td>\n",
       "      <td>0.496714</td>\n",
       "    </tr>\n",
       "    <tr>\n",
       "      <th>b</th>\n",
       "      <td>2</td>\n",
       "      <td>True</td>\n",
       "      <td>-0.138264</td>\n",
       "    </tr>\n",
       "  </tbody>\n",
       "</table>\n",
       "</div>"
      ],
      "text/plain": [
       "   A     B         C\n",
       "a  1  True  0.496714\n",
       "b  2  True -0.138264"
      ]
     },
     "execution_count": 10,
     "metadata": {},
     "output_type": "execute_result"
    }
   ],
   "source": [
    "df.iloc[[0, 1]]"
   ]
  },
  {
   "cell_type": "code",
   "execution_count": 11,
   "metadata": {
    "ExecuteTime": {
     "end_time": "2021-07-06T16:31:43.268131Z",
     "start_time": "2021-07-06T16:31:43.131902Z"
    }
   },
   "outputs": [
    {
     "data": {
      "text/html": [
       "<div>\n",
       "<style scoped>\n",
       "    .dataframe tbody tr th:only-of-type {\n",
       "        vertical-align: middle;\n",
       "    }\n",
       "\n",
       "    .dataframe tbody tr th {\n",
       "        vertical-align: top;\n",
       "    }\n",
       "\n",
       "    .dataframe thead th {\n",
       "        text-align: right;\n",
       "    }\n",
       "</style>\n",
       "<table border=\"1\" class=\"dataframe\">\n",
       "  <thead>\n",
       "    <tr style=\"text-align: right;\">\n",
       "      <th></th>\n",
       "      <th>A</th>\n",
       "      <th>B</th>\n",
       "      <th>C</th>\n",
       "    </tr>\n",
       "  </thead>\n",
       "  <tbody>\n",
       "    <tr>\n",
       "      <th>a</th>\n",
       "      <td>1</td>\n",
       "      <td>True</td>\n",
       "      <td>0.496714</td>\n",
       "    </tr>\n",
       "    <tr>\n",
       "      <th>b</th>\n",
       "      <td>2</td>\n",
       "      <td>True</td>\n",
       "      <td>-0.138264</td>\n",
       "    </tr>\n",
       "  </tbody>\n",
       "</table>\n",
       "</div>"
      ],
      "text/plain": [
       "   A     B         C\n",
       "a  1  True  0.496714\n",
       "b  2  True -0.138264"
      ]
     },
     "execution_count": 11,
     "metadata": {},
     "output_type": "execute_result"
    }
   ],
   "source": [
    "df.iloc[:2]"
   ]
  },
  {
   "cell_type": "markdown",
   "metadata": {
    "lang": "fr"
   },
   "source": [
    "Cela suit les règles habituelles de découpage en python : fermé à gauche, ouvert à droite.\n",
    "\n",
    "Comme je l'ai mentionné, vous pouvez découper à la fois les lignes et les colonnes. Utilisez **`.loc`** pour l'étiquette ou **`.iloc`** pour l'indexation de position."
   ]
  },
  {
   "cell_type": "code",
   "execution_count": 12,
   "metadata": {
    "ExecuteTime": {
     "end_time": "2021-07-06T16:31:43.407777Z",
     "start_time": "2021-07-06T16:31:43.275943Z"
    }
   },
   "outputs": [
    {
     "data": {
      "text/plain": [
       "True"
      ]
     },
     "execution_count": 12,
     "metadata": {},
     "output_type": "execute_result"
    }
   ],
   "source": [
    "df.loc['a', 'B']"
   ]
  },
  {
   "cell_type": "markdown",
   "metadata": {
    "lang": "fr"
   },
   "source": [
    "Pandas, comme NumPy, réduiront les dimensions lorsque cela est possible. Sélectionnez une seule colonne et vous récupérez une `Series` (voir ci-dessous). Sélectionnez une seule ligne et une seule colonne, vous obtenez un scalaire.\n",
    "\n",
    "Vous pouvez obtenir assez de fantaisie:"
   ]
  },
  {
   "cell_type": "code",
   "execution_count": 13,
   "metadata": {
    "ExecuteTime": {
     "end_time": "2021-07-06T16:31:43.532291Z",
     "start_time": "2021-07-06T16:31:43.411686Z"
    }
   },
   "outputs": [
    {
     "data": {
      "text/html": [
       "<div>\n",
       "<style scoped>\n",
       "    .dataframe tbody tr th:only-of-type {\n",
       "        vertical-align: middle;\n",
       "    }\n",
       "\n",
       "    .dataframe tbody tr th {\n",
       "        vertical-align: top;\n",
       "    }\n",
       "\n",
       "    .dataframe thead th {\n",
       "        text-align: right;\n",
       "    }\n",
       "</style>\n",
       "<table border=\"1\" class=\"dataframe\">\n",
       "  <thead>\n",
       "    <tr style=\"text-align: right;\">\n",
       "      <th></th>\n",
       "      <th>A</th>\n",
       "      <th>C</th>\n",
       "    </tr>\n",
       "  </thead>\n",
       "  <tbody>\n",
       "    <tr>\n",
       "      <th>a</th>\n",
       "      <td>1</td>\n",
       "      <td>0.496714</td>\n",
       "    </tr>\n",
       "    <tr>\n",
       "      <th>b</th>\n",
       "      <td>2</td>\n",
       "      <td>-0.138264</td>\n",
       "    </tr>\n",
       "    <tr>\n",
       "      <th>c</th>\n",
       "      <td>3</td>\n",
       "      <td>0.647689</td>\n",
       "    </tr>\n",
       "  </tbody>\n",
       "</table>\n",
       "</div>"
      ],
      "text/plain": [
       "   A         C\n",
       "a  1  0.496714\n",
       "b  2 -0.138264\n",
       "c  3  0.647689"
      ]
     },
     "execution_count": 13,
     "metadata": {},
     "output_type": "execute_result"
    }
   ],
   "source": [
    "df.loc['a':'c', ['A', 'C']]"
   ]
  },
  {
   "cell_type": "code",
   "execution_count": 14,
   "metadata": {},
   "outputs": [
    {
     "data": {
      "text/html": [
       "<div>\n",
       "<style scoped>\n",
       "    .dataframe tbody tr th:only-of-type {\n",
       "        vertical-align: middle;\n",
       "    }\n",
       "\n",
       "    .dataframe tbody tr th {\n",
       "        vertical-align: top;\n",
       "    }\n",
       "\n",
       "    .dataframe thead th {\n",
       "        text-align: right;\n",
       "    }\n",
       "</style>\n",
       "<table border=\"1\" class=\"dataframe\">\n",
       "  <thead>\n",
       "    <tr style=\"text-align: right;\">\n",
       "      <th></th>\n",
       "      <th>B</th>\n",
       "      <th>C</th>\n",
       "    </tr>\n",
       "  </thead>\n",
       "  <tbody>\n",
       "    <tr>\n",
       "      <th>b</th>\n",
       "      <td>True</td>\n",
       "      <td>-0.138264</td>\n",
       "    </tr>\n",
       "  </tbody>\n",
       "</table>\n",
       "</div>"
      ],
      "text/plain": [
       "      B         C\n",
       "b  True -0.138264"
      ]
     },
     "execution_count": 14,
     "metadata": {},
     "output_type": "execute_result"
    }
   ],
   "source": [
    "df.loc['b':'b',['B','C']]"
   ]
  },
  {
   "cell_type": "markdown",
   "metadata": {
    "lang": "fr"
   },
   "source": [
    "#### Résumé\n",
    "\n",
    "- Utilisez **`[]`** pour sélectionner les colonnes\n",
    "- Utilisez **`.loc[row_lables, column_labels]`** pour l'indexation basée sur les étiquettes\n",
    "- Utilisez **`.iloc[row_positions, column_positions]`** pour l'index de position\n",
    "\n",
    "J'ai laissé de côté l'indexation booléenne et hiérarchique, que nous verrons plus tard."
   ]
  },
  {
   "cell_type": "markdown",
   "metadata": {
    "lang": "fr"
   },
   "source": [
    "## Série\n",
    "\n",
    "Vous avez déjà vu quelques **séries** ci-dessus. C'est l'analogue unidimensionnel du DataFrame. Chaque colonne d'un **DataFrame** est en quelque sorte une **Series**. Vous pouvez sélectionner une **Série** à partir d'un DataFrame de plusieurs manières :"
   ]
  },
  {
   "cell_type": "code",
   "execution_count": 15,
   "metadata": {
    "ExecuteTime": {
     "end_time": "2021-07-06T16:31:43.672914Z",
     "start_time": "2021-07-06T16:31:43.539127Z"
    }
   },
   "outputs": [
    {
     "data": {
      "text/plain": [
       "a    1\n",
       "b    2\n",
       "c    3\n",
       "Name: A, dtype: int64"
      ]
     },
     "execution_count": 15,
     "metadata": {},
     "output_type": "execute_result"
    }
   ],
   "source": [
    "# __getitem__ comme avant\n",
    "df['A']"
   ]
  },
  {
   "cell_type": "code",
   "execution_count": 16,
   "metadata": {
    "ExecuteTime": {
     "end_time": "2021-07-06T16:31:43.800841Z",
     "start_time": "2021-07-06T16:31:43.680726Z"
    }
   },
   "outputs": [
    {
     "data": {
      "text/plain": [
       "a    1\n",
       "b    2\n",
       "c    3\n",
       "Name: A, dtype: int64"
      ]
     },
     "execution_count": 16,
     "metadata": {},
     "output_type": "execute_result"
    }
   ],
   "source": [
    "# .loc, comme avant\n",
    "df.loc[:, 'A']"
   ]
  },
  {
   "cell_type": "code",
   "execution_count": 17,
   "metadata": {
    "ExecuteTime": {
     "end_time": "2021-07-06T16:31:43.893614Z",
     "start_time": "2021-07-06T16:31:43.807679Z"
    }
   },
   "outputs": [
    {
     "data": {
      "text/plain": [
       "a    1\n",
       "b    2\n",
       "c    3\n",
       "Name: A, dtype: int64"
      ]
     },
     "execution_count": 17,
     "metadata": {},
     "output_type": "execute_result"
    }
   ],
   "source": [
    "# En utilisant `.` attribut lookup\n",
    "df.A"
   ]
  },
  {
   "cell_type": "code",
   "execution_count": 18,
   "metadata": {
    "ExecuteTime": {
     "end_time": "2021-07-06T16:31:44.015688Z",
     "start_time": "2021-07-06T16:31:43.899477Z"
    }
   },
   "outputs": [
    {
     "data": {
      "text/html": [
       "<div>\n",
       "<style scoped>\n",
       "    .dataframe tbody tr th:only-of-type {\n",
       "        vertical-align: middle;\n",
       "    }\n",
       "\n",
       "    .dataframe tbody tr th {\n",
       "        vertical-align: top;\n",
       "    }\n",
       "\n",
       "    .dataframe thead th {\n",
       "        text-align: right;\n",
       "    }\n",
       "</style>\n",
       "<table border=\"1\" class=\"dataframe\">\n",
       "  <thead>\n",
       "    <tr style=\"text-align: right;\">\n",
       "      <th></th>\n",
       "      <th>A</th>\n",
       "      <th>B</th>\n",
       "      <th>C</th>\n",
       "      <th>mean</th>\n",
       "    </tr>\n",
       "  </thead>\n",
       "  <tbody>\n",
       "    <tr>\n",
       "      <th>a</th>\n",
       "      <td>1</td>\n",
       "      <td>True</td>\n",
       "      <td>0.496714</td>\n",
       "      <td>a</td>\n",
       "    </tr>\n",
       "    <tr>\n",
       "      <th>b</th>\n",
       "      <td>2</td>\n",
       "      <td>True</td>\n",
       "      <td>-0.138264</td>\n",
       "      <td>b</td>\n",
       "    </tr>\n",
       "    <tr>\n",
       "      <th>c</th>\n",
       "      <td>3</td>\n",
       "      <td>False</td>\n",
       "      <td>0.647689</td>\n",
       "      <td>c</td>\n",
       "    </tr>\n",
       "  </tbody>\n",
       "</table>\n",
       "</div>"
      ],
      "text/plain": [
       "   A      B         C mean\n",
       "a  1   True  0.496714    a\n",
       "b  2   True -0.138264    b\n",
       "c  3  False  0.647689    c"
      ]
     },
     "execution_count": 18,
     "metadata": {},
     "output_type": "execute_result"
    }
   ],
   "source": [
    "df['mean'] = ['a', 'b', 'c']\n",
    "df"
   ]
  },
  {
   "cell_type": "code",
   "execution_count": 19,
   "metadata": {
    "ExecuteTime": {
     "end_time": "2021-07-06T16:31:44.262757Z",
     "start_time": "2021-07-06T16:31:44.176819Z"
    },
    "scrolled": true
   },
   "outputs": [
    {
     "data": {
      "text/plain": [
       "a    a\n",
       "b    b\n",
       "c    c\n",
       "Name: mean, dtype: object"
      ]
     },
     "execution_count": 19,
     "metadata": {},
     "output_type": "execute_result"
    }
   ],
   "source": [
    "df['mean']"
   ]
  },
  {
   "cell_type": "code",
   "execution_count": 20,
   "metadata": {
    "ExecuteTime": {
     "end_time": "2021-07-06T16:31:44.407284Z",
     "start_time": "2021-07-06T16:31:44.265687Z"
    },
    "scrolled": true
   },
   "outputs": [
    {
     "name": "stdout",
     "output_type": "stream",
     "text": [
      "0     2\n",
      "1     4\n",
      "2     6\n",
      "3     8\n",
      "4    10\n",
      "dtype: int64\n"
     ]
    }
   ],
   "source": [
    "# Creer un DataSeries:\n",
    "\n",
    "import pandas as pd\n",
    "s = pd.Series([2, 4, 6, 8, 10])\n",
    "print(s)"
   ]
  },
  {
   "cell_type": "markdown",
   "metadata": {
    "lang": "fr"
   },
   "source": [
    "Il faudra être prudent avec le dernier. Cela ne fonctionnera pas si le nom de votre colonne n'est pas un identifiant python valide (disons qu'il a un espace) ou s'il est en conflit avec l'une des (nombreuses) méthodes sur **DataFrame**. L'accesseur **`.`** est cependant extrêmement pratique pour une utilisation interactive.\n",
    "\n",
    "Vous ne devez jamais *assigner* une colonne avec **`.`** par ex. ne fais pas\n",
    "\n",
    "```python\n",
    "# mauvais\n",
    "df.A = [1, 2, 3]\n",
    "```\n",
    "\n",
    "Il n'est pas clair si vous attachez la liste **`[1, 2, 3]`** en tant qu'attribut de **`df`**, ou si vous la voulez en tant que colonne. C'est mieux de dire juste\n",
    "\n",
    "```python\n",
    "df['A'] = [1, 2, 3]\n",
    "# ou\n",
    "df.loc[:, 'A'] = [1, 2, 3]\n",
    "```\n",
    "\n",
    "**Series** partage bon nombre de méthodes avec **DataFrame**s."
   ]
  },
  {
   "cell_type": "markdown",
   "metadata": {
    "lang": "fr"
   },
   "source": [
    "## Index\n",
    "\n",
    "**`Index`** sont une particularité des pandas.\n",
    "Tout d'abord, ce ne sont pas les types d'index que vous trouverez dans SQL, qui sont utilisés pour aider le moteur à accélérer certaines requêtes.\n",
    "Dans pandas, **`Index`** concerne les étiquettes. Cela facilite la sélection (comme nous l'avons fait ci-dessus) et l'alignement automatique lors de l'exécution d'opérations entre deux **DataFrames** ou **Series**.\n",
    "\n",
    "Vous pouvez accéder à l'index d'un **DataFrame** ou **Series** avec l'attribut **`.index`**."
   ]
  },
  {
   "cell_type": "code",
   "execution_count": 21,
   "metadata": {
    "ExecuteTime": {
     "end_time": "2021-07-06T16:31:44.530824Z",
     "start_time": "2021-07-06T16:31:44.413148Z"
    }
   },
   "outputs": [
    {
     "data": {
      "text/plain": [
       "Index(['a', 'b', 'c'], dtype='object')"
      ]
     },
     "execution_count": 21,
     "metadata": {},
     "output_type": "execute_result"
    }
   ],
   "source": [
    "df.index"
   ]
  },
  {
   "cell_type": "code",
   "execution_count": 22,
   "metadata": {
    "ExecuteTime": {
     "end_time": "2021-07-06T16:31:44.648498Z",
     "start_time": "2021-07-06T16:31:44.545471Z"
    }
   },
   "outputs": [
    {
     "data": {
      "text/plain": [
       "Index(['A', 'B', 'C', 'mean'], dtype='object')"
      ]
     },
     "execution_count": 22,
     "metadata": {},
     "output_type": "execute_result"
    }
   ],
   "source": [
    "df.columns"
   ]
  },
  {
   "cell_type": "markdown",
   "metadata": {
    "lang": "fr"
   },
   "source": [
    "Il existe des types particuliers d'« Index » que vous rencontrerez. Certains d'entre eux sont\n",
    "\n",
    "- **`MultiIndex`** pour les étiquettes multidimensionnelles (hiérarchiques)\n",
    "- **`DatetimeIndex`** pour les dates et heures\n",
    "- **`Float64Index`** pour les flottants\n",
    "- **`CategoricalIndex`** pour, vous l'avez deviné, les **Catégoriques**"
   ]
  },
  {
   "cell_type": "markdown",
   "metadata": {
    "lang": "fr"
   },
   "source": [
    "* **Comment découper un DataFrame par étiquette de ligne ?**\n",
    "    - Utilisez **`.loc[étiquette]`**. Pour une utilisation basée sur la position **`.iloc[integer]`**.\n",
    "* **Comment sélectionner une colonne d'un DataFrame ?**\n",
    "    - Standard **`__getitem__`**:**`df[column_name]`**\n",
    "* **L'Index est-il une colonne dans le DataFrame ?**\n",
    "    - Non. Il n'est inclus dans aucune opération (**`mean`**, etc). Il peut être inséré comme une colonne régulière avec **`df.reset_index()`**."
   ]
  },
  {
   "cell_type": "markdown",
   "metadata": {
    "lang": "fr"
   },
   "source": [
    "### Dataframe à partir de CSV\n",
    "\n",
    "Dans le domaine de la science des données, les fichiers **[CSV](https://en.wikipedia.org/wiki/Comma-separated_values)** sont utilisés pour stocker de grands ensembles de données. Pour analyser efficacement ces ensembles de données, nous devons les convertir en pandas DataFrame.\n",
    "\n",
    "Pour créer un DataFrame à partir de CSV, nous utilisons la fonction **`read_csv('file_name')`** qui prend le nom du fichier en entrée et renvoie DataFrame en sortie."
   ]
  },
  {
   "cell_type": "markdown",
   "metadata": {
    "lang": "en"
   },
   "source": [
    "**Exemple 1 :**\n",
    "\n",
    "Voyons comment lire le fichier **[stockprice_data.csv](stockprice_data.csv)** dans le DataFrame puis le convertir en Pandas Série\n",
    "\n",
    "<div>\n",
    "<img src=\"img/csvfile1.png\" width=\"300\" />\n",
    "</div>"
   ]
  },
  {
   "cell_type": "code",
   "execution_count": 1,
   "metadata": {
    "ExecuteTime": {
     "end_time": "2021-07-06T16:31:44.928769Z",
     "start_time": "2021-07-06T16:31:44.652403Z"
    }
   },
   "outputs": [
    {
     "data": {
      "text/html": [
       "<div>\n",
       "<style scoped>\n",
       "    .dataframe tbody tr th:only-of-type {\n",
       "        vertical-align: middle;\n",
       "    }\n",
       "\n",
       "    .dataframe tbody tr th {\n",
       "        vertical-align: top;\n",
       "    }\n",
       "\n",
       "    .dataframe thead th {\n",
       "        text-align: right;\n",
       "    }\n",
       "</style>\n",
       "<table border=\"1\" class=\"dataframe\">\n",
       "  <thead>\n",
       "    <tr style=\"text-align: right;\">\n",
       "      <th></th>\n",
       "      <th>Date</th>\n",
       "      <th>Closing price</th>\n",
       "      <th>Return</th>\n",
       "    </tr>\n",
       "  </thead>\n",
       "  <tbody>\n",
       "    <tr>\n",
       "      <th>0</th>\n",
       "      <td>1/1/2020</td>\n",
       "      <td>100</td>\n",
       "      <td>0.010000</td>\n",
       "    </tr>\n",
       "    <tr>\n",
       "      <th>1</th>\n",
       "      <td>2/1/2020</td>\n",
       "      <td>120</td>\n",
       "      <td>0.200000</td>\n",
       "    </tr>\n",
       "    <tr>\n",
       "      <th>2</th>\n",
       "      <td>3/1/2020</td>\n",
       "      <td>130</td>\n",
       "      <td>0.083333</td>\n",
       "    </tr>\n",
       "    <tr>\n",
       "      <th>3</th>\n",
       "      <td>4/1/2020</td>\n",
       "      <td>98</td>\n",
       "      <td>-0.246154</td>\n",
       "    </tr>\n",
       "    <tr>\n",
       "      <th>4</th>\n",
       "      <td>5/1/2020</td>\n",
       "      <td>50</td>\n",
       "      <td>-0.489796</td>\n",
       "    </tr>\n",
       "    <tr>\n",
       "      <th>5</th>\n",
       "      <td>6/1/2020</td>\n",
       "      <td>102</td>\n",
       "      <td>1.040000</td>\n",
       "    </tr>\n",
       "    <tr>\n",
       "      <th>6</th>\n",
       "      <td>7/1/2020</td>\n",
       "      <td>104</td>\n",
       "      <td>0.019608</td>\n",
       "    </tr>\n",
       "    <tr>\n",
       "      <th>7</th>\n",
       "      <td>8/1/2020</td>\n",
       "      <td>150</td>\n",
       "      <td>0.442308</td>\n",
       "    </tr>\n",
       "    <tr>\n",
       "      <th>8</th>\n",
       "      <td>9/1/2020</td>\n",
       "      <td>160</td>\n",
       "      <td>0.066667</td>\n",
       "    </tr>\n",
       "    <tr>\n",
       "      <th>9</th>\n",
       "      <td>10/1/2020</td>\n",
       "      <td>109</td>\n",
       "      <td>-0.318750</td>\n",
       "    </tr>\n",
       "    <tr>\n",
       "      <th>10</th>\n",
       "      <td>11/1/2020</td>\n",
       "      <td>95</td>\n",
       "      <td>-0.128440</td>\n",
       "    </tr>\n",
       "  </tbody>\n",
       "</table>\n",
       "</div>"
      ],
      "text/plain": [
       "         Date  Closing price    Return\n",
       "0    1/1/2020            100  0.010000\n",
       "1    2/1/2020            120  0.200000\n",
       "2    3/1/2020            130  0.083333\n",
       "3    4/1/2020             98 -0.246154\n",
       "4    5/1/2020             50 -0.489796\n",
       "5    6/1/2020            102  1.040000\n",
       "6    7/1/2020            104  0.019608\n",
       "7    8/1/2020            150  0.442308\n",
       "8    9/1/2020            160  0.066667\n",
       "9   10/1/2020            109 -0.318750\n",
       "10  11/1/2020             95 -0.128440"
      ]
     },
     "execution_count": 1,
     "metadata": {},
     "output_type": "execute_result"
    }
   ],
   "source": [
    "import pandas as pd\n",
    "data = pd.read_csv(\"stockprice_data.csv\")\n",
    "data"
   ]
  },
  {
   "cell_type": "code",
   "execution_count": 2,
   "metadata": {
    "ExecuteTime": {
     "end_time": "2021-07-06T16:31:44.944393Z",
     "start_time": "2021-07-06T16:31:44.931699Z"
    }
   },
   "outputs": [
    {
     "data": {
      "text/plain": [
       "pandas.core.frame.DataFrame"
      ]
     },
     "execution_count": 2,
     "metadata": {},
     "output_type": "execute_result"
    }
   ],
   "source": [
    "type(data)"
   ]
  },
  {
   "cell_type": "code",
   "execution_count": 3,
   "metadata": {
    "ExecuteTime": {
     "end_time": "2021-07-06T16:31:45.056696Z",
     "start_time": "2021-07-06T16:31:44.948300Z"
    }
   },
   "outputs": [
    {
     "data": {
      "text/plain": [
       "0     0.010000\n",
       "1     0.200000\n",
       "2     0.083333\n",
       "3    -0.246154\n",
       "4    -0.489796\n",
       "5     1.040000\n",
       "6     0.019608\n",
       "7     0.442308\n",
       "8     0.066667\n",
       "9    -0.318750\n",
       "10   -0.128440\n",
       "Name: Return, dtype: float64"
      ]
     },
     "execution_count": 3,
     "metadata": {},
     "output_type": "execute_result"
    }
   ],
   "source": [
    "data1 = data.iloc[:,2]  # Convertir  Pandas DataFrame en Pandas Series\n",
    "data1"
   ]
  },
  {
   "cell_type": "code",
   "execution_count": 4,
   "metadata": {
    "ExecuteTime": {
     "end_time": "2021-07-06T16:31:45.177792Z",
     "start_time": "2021-07-06T16:31:45.065487Z"
    }
   },
   "outputs": [
    {
     "data": {
      "text/plain": [
       "pandas.core.series.Series"
      ]
     },
     "execution_count": 4,
     "metadata": {},
     "output_type": "execute_result"
    }
   ],
   "source": [
    "type(data1)"
   ]
  },
  {
   "cell_type": "markdown",
   "metadata": {
    "lang": "en"
   },
   "source": [
    "**Exemple 2 :**\n",
    "\n",
    "Voyons comment lire le fichier **[automobile_data.csv](automobile_data.csv)** dans le DataFrame.\n",
    "\n",
    "<div>\n",
    "<img src=\"img/csvfile.png\" width=\"500\"/>\n",
    "</div>"
   ]
  },
  {
   "cell_type": "code",
   "execution_count": 5,
   "metadata": {
    "ExecuteTime": {
     "end_time": "2021-07-06T16:31:45.458548Z",
     "start_time": "2021-07-06T16:31:45.182674Z"
    }
   },
   "outputs": [
    {
     "name": "stdout",
     "output_type": "stream",
     "text": [
      "    index      company   body-style  wheel-base  length engine-type  \\\n",
      "0       0  alfa-romero  convertible        88.6   168.8        dohc   \n",
      "1       1  alfa-romero  convertible        88.6   168.8        dohc   \n",
      "2       2  alfa-romero    hatchback        94.5   171.2        ohcv   \n",
      "3       3         audi        sedan        99.8   176.6         ohc   \n",
      "4       4         audi        sedan        99.4   176.6         ohc   \n",
      "..    ...          ...          ...         ...     ...         ...   \n",
      "56     81   volkswagen        sedan        97.3   171.7         ohc   \n",
      "57     82   volkswagen        sedan        97.3   171.7         ohc   \n",
      "58     86   volkswagen        sedan        97.3   171.7         ohc   \n",
      "59     87        volvo        sedan       104.3   188.8         ohc   \n",
      "60     88        volvo        wagon       104.3   188.8         ohc   \n",
      "\n",
      "   num-of-cylinders  horsepower  average-mileage    price  \n",
      "0              four         111               21  13495.0  \n",
      "1              four         111               21  16500.0  \n",
      "2               six         154               19  16500.0  \n",
      "3              four         102               24  13950.0  \n",
      "4              five         115               18  17450.0  \n",
      "..              ...         ...              ...      ...  \n",
      "56             four          85               27   7975.0  \n",
      "57             four          52               37   7995.0  \n",
      "58             four         100               26   9995.0  \n",
      "59             four         114               23  12940.0  \n",
      "60             four         114               23  13415.0  \n",
      "\n",
      "[61 rows x 10 columns]\n"
     ]
    }
   ],
   "source": [
    "cars = pd.read_csv(\"automobile_data.csv\") \n",
    "print(cars)"
   ]
  },
  {
   "cell_type": "code",
   "execution_count": 6,
   "metadata": {},
   "outputs": [
    {
     "data": {
      "text/html": [
       "<div>\n",
       "<style scoped>\n",
       "    .dataframe tbody tr th:only-of-type {\n",
       "        vertical-align: middle;\n",
       "    }\n",
       "\n",
       "    .dataframe tbody tr th {\n",
       "        vertical-align: top;\n",
       "    }\n",
       "\n",
       "    .dataframe thead th {\n",
       "        text-align: right;\n",
       "    }\n",
       "</style>\n",
       "<table border=\"1\" class=\"dataframe\">\n",
       "  <thead>\n",
       "    <tr style=\"text-align: right;\">\n",
       "      <th></th>\n",
       "      <th>index</th>\n",
       "      <th>company</th>\n",
       "      <th>body-style</th>\n",
       "      <th>wheel-base</th>\n",
       "      <th>length</th>\n",
       "      <th>engine-type</th>\n",
       "      <th>num-of-cylinders</th>\n",
       "      <th>horsepower</th>\n",
       "      <th>average-mileage</th>\n",
       "      <th>price</th>\n",
       "    </tr>\n",
       "  </thead>\n",
       "  <tbody>\n",
       "    <tr>\n",
       "      <th>0</th>\n",
       "      <td>0</td>\n",
       "      <td>alfa-romero</td>\n",
       "      <td>convertible</td>\n",
       "      <td>88.6</td>\n",
       "      <td>168.8</td>\n",
       "      <td>dohc</td>\n",
       "      <td>four</td>\n",
       "      <td>111</td>\n",
       "      <td>21</td>\n",
       "      <td>13495.0</td>\n",
       "    </tr>\n",
       "    <tr>\n",
       "      <th>1</th>\n",
       "      <td>1</td>\n",
       "      <td>alfa-romero</td>\n",
       "      <td>convertible</td>\n",
       "      <td>88.6</td>\n",
       "      <td>168.8</td>\n",
       "      <td>dohc</td>\n",
       "      <td>four</td>\n",
       "      <td>111</td>\n",
       "      <td>21</td>\n",
       "      <td>16500.0</td>\n",
       "    </tr>\n",
       "    <tr>\n",
       "      <th>2</th>\n",
       "      <td>2</td>\n",
       "      <td>alfa-romero</td>\n",
       "      <td>hatchback</td>\n",
       "      <td>94.5</td>\n",
       "      <td>171.2</td>\n",
       "      <td>ohcv</td>\n",
       "      <td>six</td>\n",
       "      <td>154</td>\n",
       "      <td>19</td>\n",
       "      <td>16500.0</td>\n",
       "    </tr>\n",
       "    <tr>\n",
       "      <th>3</th>\n",
       "      <td>3</td>\n",
       "      <td>audi</td>\n",
       "      <td>sedan</td>\n",
       "      <td>99.8</td>\n",
       "      <td>176.6</td>\n",
       "      <td>ohc</td>\n",
       "      <td>four</td>\n",
       "      <td>102</td>\n",
       "      <td>24</td>\n",
       "      <td>13950.0</td>\n",
       "    </tr>\n",
       "    <tr>\n",
       "      <th>4</th>\n",
       "      <td>4</td>\n",
       "      <td>audi</td>\n",
       "      <td>sedan</td>\n",
       "      <td>99.4</td>\n",
       "      <td>176.6</td>\n",
       "      <td>ohc</td>\n",
       "      <td>five</td>\n",
       "      <td>115</td>\n",
       "      <td>18</td>\n",
       "      <td>17450.0</td>\n",
       "    </tr>\n",
       "    <tr>\n",
       "      <th>...</th>\n",
       "      <td>...</td>\n",
       "      <td>...</td>\n",
       "      <td>...</td>\n",
       "      <td>...</td>\n",
       "      <td>...</td>\n",
       "      <td>...</td>\n",
       "      <td>...</td>\n",
       "      <td>...</td>\n",
       "      <td>...</td>\n",
       "      <td>...</td>\n",
       "    </tr>\n",
       "    <tr>\n",
       "      <th>56</th>\n",
       "      <td>81</td>\n",
       "      <td>volkswagen</td>\n",
       "      <td>sedan</td>\n",
       "      <td>97.3</td>\n",
       "      <td>171.7</td>\n",
       "      <td>ohc</td>\n",
       "      <td>four</td>\n",
       "      <td>85</td>\n",
       "      <td>27</td>\n",
       "      <td>7975.0</td>\n",
       "    </tr>\n",
       "    <tr>\n",
       "      <th>57</th>\n",
       "      <td>82</td>\n",
       "      <td>volkswagen</td>\n",
       "      <td>sedan</td>\n",
       "      <td>97.3</td>\n",
       "      <td>171.7</td>\n",
       "      <td>ohc</td>\n",
       "      <td>four</td>\n",
       "      <td>52</td>\n",
       "      <td>37</td>\n",
       "      <td>7995.0</td>\n",
       "    </tr>\n",
       "    <tr>\n",
       "      <th>58</th>\n",
       "      <td>86</td>\n",
       "      <td>volkswagen</td>\n",
       "      <td>sedan</td>\n",
       "      <td>97.3</td>\n",
       "      <td>171.7</td>\n",
       "      <td>ohc</td>\n",
       "      <td>four</td>\n",
       "      <td>100</td>\n",
       "      <td>26</td>\n",
       "      <td>9995.0</td>\n",
       "    </tr>\n",
       "    <tr>\n",
       "      <th>59</th>\n",
       "      <td>87</td>\n",
       "      <td>volvo</td>\n",
       "      <td>sedan</td>\n",
       "      <td>104.3</td>\n",
       "      <td>188.8</td>\n",
       "      <td>ohc</td>\n",
       "      <td>four</td>\n",
       "      <td>114</td>\n",
       "      <td>23</td>\n",
       "      <td>12940.0</td>\n",
       "    </tr>\n",
       "    <tr>\n",
       "      <th>60</th>\n",
       "      <td>88</td>\n",
       "      <td>volvo</td>\n",
       "      <td>wagon</td>\n",
       "      <td>104.3</td>\n",
       "      <td>188.8</td>\n",
       "      <td>ohc</td>\n",
       "      <td>four</td>\n",
       "      <td>114</td>\n",
       "      <td>23</td>\n",
       "      <td>13415.0</td>\n",
       "    </tr>\n",
       "  </tbody>\n",
       "</table>\n",
       "<p>61 rows × 10 columns</p>\n",
       "</div>"
      ],
      "text/plain": [
       "    index      company   body-style  wheel-base  length engine-type  \\\n",
       "0       0  alfa-romero  convertible        88.6   168.8        dohc   \n",
       "1       1  alfa-romero  convertible        88.6   168.8        dohc   \n",
       "2       2  alfa-romero    hatchback        94.5   171.2        ohcv   \n",
       "3       3         audi        sedan        99.8   176.6         ohc   \n",
       "4       4         audi        sedan        99.4   176.6         ohc   \n",
       "..    ...          ...          ...         ...     ...         ...   \n",
       "56     81   volkswagen        sedan        97.3   171.7         ohc   \n",
       "57     82   volkswagen        sedan        97.3   171.7         ohc   \n",
       "58     86   volkswagen        sedan        97.3   171.7         ohc   \n",
       "59     87        volvo        sedan       104.3   188.8         ohc   \n",
       "60     88        volvo        wagon       104.3   188.8         ohc   \n",
       "\n",
       "   num-of-cylinders  horsepower  average-mileage    price  \n",
       "0              four         111               21  13495.0  \n",
       "1              four         111               21  16500.0  \n",
       "2               six         154               19  16500.0  \n",
       "3              four         102               24  13950.0  \n",
       "4              five         115               18  17450.0  \n",
       "..              ...         ...              ...      ...  \n",
       "56             four          85               27   7975.0  \n",
       "57             four          52               37   7995.0  \n",
       "58             four         100               26   9995.0  \n",
       "59             four         114               23  12940.0  \n",
       "60             four         114               23  13415.0  \n",
       "\n",
       "[61 rows x 10 columns]"
      ]
     },
     "execution_count": 6,
     "metadata": {},
     "output_type": "execute_result"
    }
   ],
   "source": [
    "cars"
   ]
  },
  {
   "cell_type": "markdown",
   "metadata": {
    "lang": "fr"
   },
   "source": [
    "## Options de trame de données\n",
    "\n",
    "Lorsque DataFrame est vaste et que nous ne pouvons pas afficher toutes les données lors de l'impression. Dans ce cas, nous devons modifier la façon dont DataFrame s'affiche sur la console à l'aide de la fonction **`print()`**. Pour cela, pandas a fourni de nombreuses options et fonctions pour personnaliser la présentation du DataFrame."
   ]
  },
  {
   "cell_type": "markdown",
   "metadata": {
    "lang": "fr"
   },
   "source": [
    "### Pour personnaliser l'affichage de DataFrame lors de l'impression\n",
    "\n",
    "Lorsque nous affichons le DataFrame en utilisant la fonction **`print()`** par défaut, il affiche 10 lignes (top 5 et bottom 5). Parfois, nous pouvons avoir besoin d'afficher plus ou moins de lignes que la vue par défaut du DataFrame.\n",
    "\n",
    "Nous pouvons modifier le paramètre en utilisant les fonctions **`pd.options`** ou **`pd.set_option()`**. Les deux peuvent être utilisés de manière interchangeable.\n",
    "\n",
    "L'exemple ci-dessous montrera un maximum de 20 et un minimum de 5 lignes lors de l'impression de DataFrame."
   ]
  },
  {
   "cell_type": "code",
   "execution_count": 29,
   "metadata": {
    "ExecuteTime": {
     "end_time": "2021-07-06T16:31:45.520071Z",
     "start_time": "2021-07-06T16:31:45.461482Z"
    }
   },
   "outputs": [
    {
     "name": "stdout",
     "output_type": "stream",
     "text": [
      "    index      company   body-style  wheel-base  length engine-type  \\\n",
      "0       0  alfa-romero  convertible        88.6   168.8        dohc   \n",
      "1       1  alfa-romero  convertible        88.6   168.8        dohc   \n",
      "..    ...          ...          ...         ...     ...         ...   \n",
      "59     87        volvo        sedan       104.3   188.8         ohc   \n",
      "60     88        volvo        wagon       104.3   188.8         ohc   \n",
      "\n",
      "   num-of-cylinders  horsepower  average-mileage    price  \n",
      "0              four         111               21  13495.0  \n",
      "1              four         111               21  16500.0  \n",
      "..              ...         ...              ...      ...  \n",
      "59             four         114               23  12940.0  \n",
      "60             four         114               23  13415.0  \n",
      "\n",
      "[61 rows x 10 columns]\n"
     ]
    }
   ],
   "source": [
    "import pandas as pd\n",
    "\n",
    "# maximum de ligne a afficher \n",
    "pd.options.display.max_rows = 20\n",
    "\n",
    "# minimum de ligne a afficher\n",
    "pd.set_option(\"display.min_rows\", 5)\n",
    "\n",
    "# Print DataFrame\n",
    "print(cars)"
   ]
  },
  {
   "cell_type": "markdown",
   "metadata": {
    "lang": "fr"
   },
   "source": [
    "## Métadonnées DataFrame\n",
    "\n",
    "Parfois, nous devons obtenir les métadonnées du DataFrame et non le contenu qu'il contient. Ces informations de métadonnées sont utiles pour comprendre le DataFrame car elles donnent plus de détails sur le DataFrame que nous devons traiter.\n",
    "\n",
    "Dans cette section, nous couvrons les fonctions qui fournissent ces informations sur le DataFrame.\n",
    "\n",
    "Prenons un exemple de DataFrame étudiant qui contient **'Name'**, **'Age'** et **'Marks'** des étudiants comme indiqué ci-dessous :\n",
    "\n",
    "```python\n",
    "    Name      Age  Marks\n",
    "0   Diallo   20    85.10\n",
    "1   Bah      21    77.80\n",
    "2   Deme     19    91.54\n",
    "```"
   ]
  },
  {
   "cell_type": "markdown",
   "metadata": {
    "lang": "fr"
   },
   "source": [
    "### Informations sur les métadonnées de DataFrame\n",
    "\n",
    "**`DataFrame.info()`** est une fonction de DataFrame qui donne les métadonnées de DataFrame. Qui comprend,\n",
    "\n",
    "* Nombre de lignes et sa plage d'index\n",
    "* Nombre total de colonnes\n",
    "* Liste des colonnes\n",
    "* Compte du nombre total de valeurs non nulles dans la colonne\n",
    "* Type de données de la colonne\n",
    "* Nombre de colonnes dans chaque type de données\n",
    "* Utilisation de la mémoire par le DataFrame"
   ]
  },
  {
   "cell_type": "code",
   "execution_count": 9,
   "metadata": {
    "ExecuteTime": {
     "end_time": "2021-07-06T16:31:45.781304Z",
     "start_time": "2021-07-06T16:31:45.523493Z"
    }
   },
   "outputs": [
    {
     "name": "stdout",
     "output_type": "stream",
     "text": [
      "<class 'pandas.core.frame.DataFrame'>\n",
      "RangeIndex: 2 entries, 0 to 1\n",
      "Data columns (total 3 columns):\n",
      " #   Column  Non-Null Count  Dtype  \n",
      "---  ------  --------------  -----  \n",
      " 0   Name    2 non-null      object \n",
      " 1   Age     2 non-null      int64  \n",
      " 2   Marks   2 non-null      float64\n",
      "dtypes: float64(1), int64(1), object(1)\n",
      "memory usage: 180.0+ bytes\n"
     ]
    }
   ],
   "source": [
    "# Example: Dans l'exemple ci-dessous, nous avons obtenu les informations de métadonnées de l'étudiant DataFrame.\n",
    "\n",
    "student_df.info()"
   ]
  },
  {
   "cell_type": "markdown",
   "metadata": {
    "lang": "fr"
   },
   "source": [
    "### Obtenir les statistiques de DataFrame\n",
    "\n",
    "**`DataFrame.describe()`** est une fonction qui donne des statistiques mathématiques des données dans DataFrame. Mais, cela s'applique aux **colonnes qui contiennent des valeurs numériques**.\n",
    "\n",
    "Dans notre exemple de DataFrame étudiant, il donne des statistiques descriptives des colonnes **'Age'** et **'Marks'** uniquement, qui incluent :\n",
    "\n",
    "1. **count** : nombre total de valeurs non nulles dans la colonne\n",
    "2. **mean** : une moyenne de nombres\n",
    "3. **std** : une valeur d'écart type\n",
    "4. **min** : valeur minimale\n",
    "5. **25 %** : 25e centile\n",
    "6. **50 %** : 50e centile\n",
    "7. **75 %** : 75e centile\n",
    "8. **max** : valeur maximale\n",
    "\n",
    ">**Remarque :** La sortie de la fonction **`DataFrame.describe()`** varie en fonction de l'entrée DataFrame."
   ]
  },
  {
   "cell_type": "code",
   "execution_count": 10,
   "metadata": {
    "ExecuteTime": {
     "end_time": "2021-07-06T16:31:46.045947Z",
     "start_time": "2021-07-06T16:31:45.786186Z"
    }
   },
   "outputs": [
    {
     "data": {
      "text/html": [
       "<div>\n",
       "<style scoped>\n",
       "    .dataframe tbody tr th:only-of-type {\n",
       "        vertical-align: middle;\n",
       "    }\n",
       "\n",
       "    .dataframe tbody tr th {\n",
       "        vertical-align: top;\n",
       "    }\n",
       "\n",
       "    .dataframe thead th {\n",
       "        text-align: right;\n",
       "    }\n",
       "</style>\n",
       "<table border=\"1\" class=\"dataframe\">\n",
       "  <thead>\n",
       "    <tr style=\"text-align: right;\">\n",
       "      <th></th>\n",
       "      <th>Age</th>\n",
       "      <th>Marks</th>\n",
       "    </tr>\n",
       "  </thead>\n",
       "  <tbody>\n",
       "    <tr>\n",
       "      <th>count</th>\n",
       "      <td>2.000000</td>\n",
       "      <td>2.00000</td>\n",
       "    </tr>\n",
       "    <tr>\n",
       "      <th>mean</th>\n",
       "      <td>22.500000</td>\n",
       "      <td>81.45000</td>\n",
       "    </tr>\n",
       "    <tr>\n",
       "      <th>std</th>\n",
       "      <td>0.707107</td>\n",
       "      <td>5.16188</td>\n",
       "    </tr>\n",
       "    <tr>\n",
       "      <th>min</th>\n",
       "      <td>22.000000</td>\n",
       "      <td>77.80000</td>\n",
       "    </tr>\n",
       "    <tr>\n",
       "      <th>25%</th>\n",
       "      <td>22.250000</td>\n",
       "      <td>79.62500</td>\n",
       "    </tr>\n",
       "    <tr>\n",
       "      <th>50%</th>\n",
       "      <td>22.500000</td>\n",
       "      <td>81.45000</td>\n",
       "    </tr>\n",
       "    <tr>\n",
       "      <th>75%</th>\n",
       "      <td>22.750000</td>\n",
       "      <td>83.27500</td>\n",
       "    </tr>\n",
       "    <tr>\n",
       "      <th>max</th>\n",
       "      <td>23.000000</td>\n",
       "      <td>85.10000</td>\n",
       "    </tr>\n",
       "  </tbody>\n",
       "</table>\n",
       "</div>"
      ],
      "text/plain": [
       "             Age     Marks\n",
       "count   2.000000   2.00000\n",
       "mean   22.500000  81.45000\n",
       "std     0.707107   5.16188\n",
       "min    22.000000  77.80000\n",
       "25%    22.250000  79.62500\n",
       "50%    22.500000  81.45000\n",
       "75%    22.750000  83.27500\n",
       "max    23.000000  85.10000"
      ]
     },
     "execution_count": 10,
     "metadata": {},
     "output_type": "execute_result"
    }
   ],
   "source": [
    "# Exemple\n",
    "\n",
    "student_df.describe()"
   ]
  },
  {
   "cell_type": "markdown",
   "metadata": {
    "lang": "fr"
   },
   "source": [
    "## Attributs DataFrame\n",
    "\n",
    "DataFrame a fourni de nombreux attributs intégrés. Les attributs ne modifient pas les données sous-jacentes, contrairement aux fonctions, mais ils sont utilisés pour obtenir plus de détails sur le DataFrame."
   ]
  },
  {
   "cell_type": "markdown",
   "metadata": {
    "lang": "fr"
   },
   "source": [
    "Voici les attributs principalement utilisés du DataFrame :\n",
    "\n",
    "| Attribut | Description |\n",
    "|:---- |:---- |\n",
    "| **`DataFrame.index`** | **Il donne la plage de l'index de ligne** |\n",
    "| **`DataFrame.columns`** | **Il donne une liste d'étiquettes de colonnes** |\n",
    "| **`DataFrame.dtypes`** | **Il donne les noms des colonnes et leur type de données** |\n",
    "| **`DataFrame.values`** | **Il donne toutes les lignes de DataFrame** |\n",
    "| **`DataFrame.empty`** | **Il est utilisé pour vérifier si le DataFrame est vide** |\n",
    "| **`DataFrame.size`** | **Il donne un nombre total de valeurs dans DataFrame** |\n",
    "| **`DataFrame.shape`** | **C'est un nombre de lignes et de colonnes dans DataFrame** |"
   ]
  },
  {
   "cell_type": "code",
   "execution_count": 11,
   "metadata": {
    "ExecuteTime": {
     "end_time": "2021-07-06T16:31:46.124074Z",
     "start_time": "2021-07-06T16:31:46.050834Z"
    }
   },
   "outputs": [
    {
     "name": "stdout",
     "output_type": "stream",
     "text": [
      "DataFrame :\n",
      "       Name  Age  Marks\n",
      "0  Diallo   20  85.10\n",
      "1     Bah   21  77.80\n",
      "2  Ndiaye   19  91.54\n",
      "DataFrame Index :  RangeIndex(start=0, stop=3, step=1)\n",
      "DataFrame Columns :  Index(['Name', 'Age', 'Marks'], dtype='object')\n",
      "DataFrame Column types :  Name      object\n",
      "Age        int64\n",
      "Marks    float64\n",
      "dtype: object\n",
      "DataFrame is empty? :  False\n",
      "DataFrame Shape :  (3, 3)\n",
      "DataFrame Size :  9\n",
      "DataFrame Values :  [['Diallo' 20 85.1]\n",
      " ['Bah' 21 77.8]\n",
      " ['Ndiaye' 19 91.54]]\n"
     ]
    }
   ],
   "source": [
    "# Exemple:\n",
    "\n",
    "import pandas as pd\n",
    "\n",
    "# Creer  un Dataframe a partir d'un dictionnaire\n",
    "student_dict = {'Name': ['Diallo', 'Bah', 'Ndiaye'], 'Age': [20, 21, 19], 'Marks': [85.10, 77.80, 91.54]}\n",
    "\n",
    "student_df = pd.DataFrame(student_dict)\n",
    "\n",
    "print(\"DataFrame :\\n \", student_df)\n",
    "\n",
    "print(\"DataFrame Index : \", student_df.index)\n",
    "print(\"DataFrame Columns : \", student_df.columns)\n",
    "\n",
    "print(\"DataFrame Column types : \", student_df.dtypes)\n",
    "\n",
    "print(\"DataFrame is empty? : \", student_df.empty)\n",
    "\n",
    "print(\"DataFrame Shape : \", student_df.shape)\n",
    "print(\"DataFrame Size : \", student_df.size)\n",
    "\n",
    "print(\"DataFrame Values : \", student_df.values)"
   ]
  },
  {
   "cell_type": "markdown",
   "metadata": {
    "lang": "fr"
   },
   "source": [
    "## Sélection de DataFrame\n",
    "\n",
    "Lorsqu'il traite de vastes données dans DataFrame, un analyste de données doit toujours sélectionner une ligne ou une colonne particulière pour l'analyse. Dans de tels cas, les fonctions qui peuvent choisir un ensemble de lignes ou de colonnes telles que les lignes supérieures, les lignes inférieures ou les données dans une plage d'index jouent un rôle important."
   ]
  },
  {
   "cell_type": "markdown",
   "metadata": {
    "lang": "fr"
   },
   "source": [
    "Voici les fonctions qui aident à sélectionner le sous-ensemble du DataFrame :\n",
    "\n",
    "| Attribut | Description |\n",
    "|:---- |:---- |\n",
    "| **`DataFrame.head(n)`** | **Il est utilisé pour sélectionner les 'n' premières lignes dans DataFrame.** |\n",
    "| **`DataFrame.tail(n)`** | **Il est utilisé pour sélectionner les 'n' dernières lignes dans DataFrame.** |\n",
    "| **`DataFrame.at`** | **Il est utilisé pour obtenir et définir la valeur particulière de DataFrame à l'aide d'étiquettes de ligne et de colonne.** |\n",
    "| **`DataFrame.iat`** | **Il est utilisé pour obtenir et définir la valeur particulière de DataFrame en utilisant les positions d'index de ligne et de colonne.** |\n",
    "| **`DataFrame.get(key)`** | **Il est utilisé pour obtenir la valeur d'une clé dans DataFrame où Key est le nom de la colonne.** |\n",
    "| **`DataFrame.loc()`** | **Il est utilisé pour sélectionner un groupe de données en fonction des étiquettes de ligne et de colonne. Il est utilisé pour le découpage et le filtrage du DataFrame.** |\n",
    "| **`DataFrame.iloc()`** | **Il est utilisé pour sélectionner un groupe de données en fonction de la position de l'index de ligne et de colonne. Utilisez-le pour découper et filtrer le DataFrame.** |"
   ]
  },
  {
   "cell_type": "code",
   "execution_count": 31,
   "metadata": {
    "ExecuteTime": {
     "end_time": "2021-07-06T16:31:46.358448Z",
     "start_time": "2021-07-06T16:31:46.134819Z"
    }
   },
   "outputs": [
    {
     "name": "stdout",
     "output_type": "stream",
     "text": [
      "DataFrame :       Name  Age  Marks\n",
      "0  Diallo   20  85.10\n",
      "1     Bah   21  77.80\n",
      "2  Ndiaye   19  91.54\n",
      "     Name  Age  Marks\n",
      "0  Diallo   20   85.1\n",
      "     Name  Age  Marks\n",
      "2  Ndiaye   19  91.54\n",
      "Diallo\n",
      "Diallo\n",
      "0    20\n",
      "1    21\n",
      "2    19\n",
      "Name: Age, dtype: int64\n",
      "     Name\n",
      "0  Diallo\n",
      "1     Bah\n",
      "2  Ndiaye\n",
      "     Name  Age\n",
      "0  Diallo   20\n",
      "1     Bah   21\n"
     ]
    }
   ],
   "source": [
    "# Exemple\n",
    "\n",
    "import pandas as pd\n",
    "\n",
    "# Creer un DataFrame a partir d'un dict\n",
    "student_dict = {'Name': ['Diallo', 'Bah', 'Ndiaye'], 'Age': [20, 21, 19], 'Marks': [85.10, 77.80, 91.54]}\n",
    "\n",
    "student_df = pd.DataFrame(student_dict)\n",
    "\n",
    "# afficher un dataframe\n",
    "print(\"DataFrame : \", student_df)\n",
    "\n",
    "# selectionner les deux premières\n",
    "print(student_df.head(1))\n",
    "\n",
    "# selectionner les deux dernières lignes\n",
    "print(student_df.tail(1))\n",
    "\n",
    "# selectionner la valeur a row index 0 et column 'Name'\n",
    "print(student_df.at[0, 'Name'])\n",
    "\n",
    "# selectionner la valeur à la premeire ligne et premiere colonne\n",
    "print(student_df.iat[0, 0])\n",
    "\n",
    "# selectionner les valeurs de la colonne 'Name'\n",
    "print(student_df.get('Age'))\n",
    "\n",
    "# selectionner les valeurs de la ligne 0 à la ligne 2 et la colonne 'Name' \n",
    "print(student_df.loc[0:2, ['Name']])\n",
    "\n",
    "# selectionner les valeurs de la ligne 0 à 2(exclusive) et la colonne position 0 à 2(exclusive)\n",
    "print(student_df.iloc[0:2, 0:2])"
   ]
  },
  {
   "cell_type": "markdown",
   "metadata": {
    "lang": "fr"
   },
   "source": [
    "## Modification du DataFrame\n",
    "\n",
    "\n",
    "DataFrame est similaire à n'importe quelle feuille Excel ou à une table de base de données où nous devons insérer de nouvelles données ou **[drop columns (supprimer des colonnes)](001_Python_Pandas_Methods/004_Python_Pandas_DataFrame_drop_columns.ipynb)** et des lignes si ce n'est pas nécessaire. De telles opérations de manipulation de données sont très courantes sur un DataFrame.\n",
    "\n",
    "Dans cette section, nous discutons des fonctions de manipulation de données du DataFrame."
   ]
  },
  {
   "cell_type": "markdown",
   "metadata": {
    "lang": "fr"
   },
   "source": [
    "### Insérer des colonnes\n",
    "\n",
    "Parfois, il est nécessaire d'ajouter une nouvelle colonne dans le DataFrame. **`DataFrame.insert()`** La fonction est utilisée pour insérer une nouvelle colonne dans DataFrame à la position spécifiée.\n",
    "\n",
    "Dans l'exemple ci-dessous, nous insérons une nouvelle colonne **'Class'** en tant que troisième nouvelle colonne dans le DataFrame avec la valeur par défaut '**A**' en utilisant la syntaxe :\n",
    "\n",
    "```python\n",
    "df.insert(loc = col_position, colonne = nouveau_col_nom, valeur = valeur_par_défaut)\n",
    "```"
   ]
  },
  {
   "cell_type": "code",
   "execution_count": 40,
   "metadata": {
    "ExecuteTime": {
     "end_time": "2021-07-06T16:31:46.451221Z",
     "start_time": "2021-07-06T16:31:46.365288Z"
    },
    "scrolled": true
   },
   "outputs": [
    {
     "name": "stdout",
     "output_type": "stream",
     "text": [
      "     Name  Age  Marks\n",
      "0  Diallo   20  85.10\n",
      "1     Bah   21  77.80\n",
      "2  Ndiaye   19  91.54\n",
      "     Name  Age Class  Marks\n",
      "0  Diallo   20     A  85.10\n",
      "1     Bah   21     A  77.80\n",
      "2  Ndiaye   19     A  91.54\n"
     ]
    }
   ],
   "source": [
    "# Exemple:\n",
    "\n",
    "import pandas as pd\n",
    "\n",
    "# Creer un DataFrame a partir d'un dict\n",
    "student_dict = {'Name': ['Diallo', 'Bah', 'Ndiaye'], 'Age': [20, 21, 19], 'Marks': [85.10, 77.80, 91.54]}\n",
    "student_df = pd.DataFrame(student_dict)\n",
    "print(student_df)\n",
    "\n",
    "# inserer une nouvelle colonne dans dataframe et afficher\n",
    "student_df.insert(loc=2, column=\"Class\", value='A')\n",
    "print(student_df)"
   ]
  },
  {
   "cell_type": "markdown",
   "metadata": {
    "lang": "fr"
   },
   "source": [
    "### Supprimer les colonnes\n",
    "\n",
    "DataFrame peut contenir des données redondantes, dans de tels cas, nous devrons peut-être supprimer ces données qui ne sont pas nécessaires. \n",
    "**`DataFrame.drop()`** La fonction est utilisée pour **[delete the columns from DataFrame](001_Python_Pandas_Methods/004_Python_Pandas_DataFrame_drop_columns.ipynb)**. \n",
    "\n",
    "Consultez les notebooks suivants pour obtenir plus de détails\n",
    "\n",
    "* **[Supprimer les doublons](001_Python_Pandas_Methods/005_Python_Pandas_DataFrame_drop_duplicates.ipynb)**\n",
    "* **[Supprimer les colonnes avec NA](001_Python_Pandas_Methods/006_Python_Pandas_DataFrame_drop_columns_with_NA.ipynb)**"
   ]
  },
  {
   "cell_type": "markdown",
   "metadata": {
    "lang": "fr"
   },
   "source": [
    "Dans l'exemple ci-dessous, nous supprimons la colonne \"**Age**\" du DataFrame étudiant en utilisant **`df.drop(columns=[col1,col2...])`** ."
   ]
  },
  {
   "cell_type": "code",
   "execution_count": 33,
   "metadata": {
    "ExecuteTime": {
     "end_time": "2021-07-06T16:31:46.716357Z",
     "start_time": "2021-07-06T16:31:46.455127Z"
    }
   },
   "outputs": [
    {
     "name": "stdout",
     "output_type": "stream",
     "text": [
      "     Name  Age  Marks\n",
      "0  Diallo   20  85.10\n",
      "1     Bah   21  77.80\n",
      "2  Ndiaye   19  91.54\n",
      "     Name  Marks\n",
      "0  Diallo  85.10\n",
      "1     Bah  77.80\n",
      "2  Ndiaye  91.54\n"
     ]
    }
   ],
   "source": [
    "import pandas as pd\n",
    "\n",
    "# Creer un DataFrame a partir d'un dict\n",
    "student_dict = {'Name': ['Diallo', 'Bah', 'Ndiaye'], 'Age': [20, 21, 19], 'Marks': [85.10, 77.80, 91.54]}\n",
    "\n",
    "student_df = pd.DataFrame(student_dict)\n",
    "print(student_df)\n",
    "\n",
    "# supprimer une colonne a partir du dataframe\n",
    "student_df=student_df.drop(columns='Age')\n",
    "print(student_df)"
   ]
  },
  {
   "cell_type": "markdown",
   "metadata": {
    "lang": "fr"
   },
   "source": [
    "### Appliquer une condition\n",
    "\n",
    "Nous devrons peut-être mettre à jour la valeur dans le DataFrame en fonction de certaines conditions. La fonction **`DataFrame.where() `** est utilisée pour remplacer la valeur de DataFrame, où la condition est **`False`**.\n",
    "\n",
    "**Syntaxe :**\n",
    "```python\n",
    "where(filter, other=new_value)\n",
    "```\n",
    "\n",
    "Il applique la condition de filtre sur toutes les lignes du DataFrame, comme suit :\n",
    "\n",
    "* Si la condition de filtre renvoie **`False`**, elle met à jour la ligne avec la valeur spécifiée dans le paramètre **`other`**.\n",
    "* Si la condition de filtre renvoie **`True`**, la ligne n'est pas mise à jour."
   ]
  },
  {
   "cell_type": "markdown",
   "metadata": {
    "lang": "fr"
   },
   "source": [
    "Dans l'exemple ci-dessous, nous voulons remplacer les notes de l'élève par '0' lorsque les notes sont inférieures à 80. Nous passons une condition de filtre **`df['Marks']> 80`** à la fonction."
   ]
  },
  {
   "cell_type": "code",
   "execution_count": 45,
   "metadata": {
    "ExecuteTime": {
     "end_time": "2021-07-06T16:31:47.244185Z",
     "start_time": "2021-07-06T16:31:46.719287Z"
    },
    "scrolled": true
   },
   "outputs": [
    {
     "name": "stdout",
     "output_type": "stream",
     "text": [
      "     Name  Age  Marks\n",
      "0  Diallo   20  85.10\n",
      "1     Bah   21  77.80\n",
      "2  Ndiaye   19  91.54\n",
      "     Name  Age  Marks\n",
      "0  Diallo   20  85.10\n",
      "1     Bah   21   0.00\n",
      "2  Ndiaye   19  91.54\n"
     ]
    }
   ],
   "source": [
    "import pandas as pd\n",
    "\n",
    "# Creer un DataFrame a partir d'un dict\n",
    "student_dict = {'Name': ['Diallo', 'Bah', 'Ndiaye'], 'Age': [20, 21, 19], 'Marks': [85.10, 77.80, 91.54]}\n",
    "\n",
    "student_df = pd.DataFrame(student_dict)\n",
    "print(student_df)\n",
    "\n",
    "# Définir la condition du filtre\n",
    "filter = student_df['Marks'] > 80\n",
    "\n",
    "student_df['Marks'].where(filter, other=0, inplace=True)\n",
    "print(student_df)"
   ]
  },
  {
   "cell_type": "markdown",
   "metadata": {
    "lang": "fr"
   },
   "source": [
    "## Colonnes de filtre DataFrame\n",
    "\n",
    "Les ensembles de données contiennent des données massives qui doivent être analysées. Mais, parfois, nous pouvons vouloir analyser les données pertinentes et filtrer toutes les autres données. Dans un tel cas, nous pouvons utiliser la fonction **`DataFrame.filter() `** pour récupérer uniquement les données requises à partir de DataFrame.\n",
    "\n",
    "Il renvoie le sous-ensemble du DataFrame en appliquant des conditions sur chaque index de ligne ou étiquette de colonne comme spécifié à l'aide de la syntaxe ci-dessous.\n",
    "\n",
    "**Syntaxe :**\n",
    "```python\n",
    "df.filter(like = filter_cond, axis = 'columns' ou 'index')\n",
    "```"
   ]
  },
  {
   "cell_type": "markdown",
   "metadata": {
    "lang": "fr"
   },
   "source": [
    "Il applique la condition sur chaque index de ligne ou étiquette de colonne.\n",
    "\n",
    "* Si la condition est réussie, elle inclut cette ligne ou colonne dans le DataFrame résultant.\n",
    "* Si la condition a échoué, cela signifie qu'elle n'a pas cette ligne ou cette colonne dans le DataFrame résultant.\n",
    "\n",
    ">**Remarque :** Il applique le filtre sur l'index de ligne ou l'étiquette de colonne, et non sur les données réelles."
   ]
  },
  {
   "cell_type": "markdown",
   "metadata": {
    "lang": "fr"
   },
   "source": [
    "Dans l'exemple ci-dessous, nous incluons uniquement la colonne avec une étiquette de colonne qui commence par \"**N**\"."
   ]
  },
  {
   "cell_type": "code",
   "execution_count": 35,
   "metadata": {
    "ExecuteTime": {
     "end_time": "2021-07-06T16:31:47.310591Z",
     "start_time": "2021-07-06T16:31:47.264696Z"
    },
    "scrolled": true
   },
   "outputs": [
    {
     "name": "stdout",
     "output_type": "stream",
     "text": [
      "     Name  Age  Marks\n",
      "0  Diallo   20  85.10\n",
      "1     Bah   21  77.80\n",
      "2  Ndiaye   19  91.54\n",
      "     Name\n",
      "0  Diallo\n",
      "1     Bah\n",
      "2  Ndiaye\n"
     ]
    }
   ],
   "source": [
    "\n",
    "import pandas as pd\n",
    "\n",
    "# Creer un dataframe a partir d'un dictionnaire\n",
    "student_dict = {'Name': ['Diallo', 'Bah', 'Ndiaye'], 'Age': [20, 21, 19], 'Marks': [85.10, 77.80, 91.54]}\n",
    "\n",
    "student_df = pd.DataFrame(student_dict)\n",
    "print(student_df)\n",
    "\n",
    "# appliquer le filtre sur le dataframe\n",
    "student_df = student_df.filter(like='N', axis='columns')\n",
    "print(student_df)"
   ]
  },
  {
   "cell_type": "markdown",
   "metadata": {
    "lang": "fr"
   },
   "source": [
    "## DataFrame renommer les colonnes\n",
    "\n",
    "Lorsque vous travaillez avec DataFrame, nous devrons peut-être **[renommer la colonne](001_Python_Pandas_Methods/007_Python_Pandas_DataFrame_rename_columns.ipynb)** ou un index de ligne. Nous pouvons utiliser la fonction **`DataFrame.rename()`** pour modifier les étiquettes de ligne ou de colonne.\n",
    "\n",
    "Nous devons transmettre un dictionnaire de paires clé-valeur en entrée à la fonction. Où la clé de **`dict`** est l'étiquette de colonne existante et la valeur de **`dict`** est la nouvelle étiquette de colonne.\n",
    "\n",
    "```python\n",
    "df.rename(columns = {'old':'new'})\n",
    "```\n",
    "\n",
    "Il peut être utilisé pour renommer une ou plusieurs colonnes et étiquettes de ligne."
   ]
  },
  {
   "cell_type": "markdown",
   "metadata": {
    "lang": "fr"
   },
   "source": [
    "Dans l'exemple ci-dessous, nous renommons la colonne '**Marks**' en '**Percentage**' dans le DataFrame étudiant."
   ]
  },
  {
   "cell_type": "code",
   "execution_count": 34,
   "metadata": {
    "ExecuteTime": {
     "end_time": "2021-07-06T16:31:47.430221Z",
     "start_time": "2021-07-06T16:31:47.316454Z"
    }
   },
   "outputs": [
    {
     "name": "stdout",
     "output_type": "stream",
     "text": [
      "     Name  Age  Marks\n",
      "0  Diallo   20  85.10\n",
      "1     Bah   21  77.80\n",
      "2  Ndiaye   19  91.54\n",
      "     Name  Age  Percentage\n",
      "0  Diallo   20       85.10\n",
      "1     Bah   21       77.80\n",
      "2  Ndiaye   19       91.54\n"
     ]
    }
   ],
   "source": [
    "import pandas as pd\n",
    "\n",
    "# Create DataFrame from dict\n",
    "student_dict = {'Name': ['Diallo', 'Bah', 'Ndiaye'], 'Age': [20, 21, 19], 'Marks': [85.10, 77.80, 91.54]}\n",
    "\n",
    "student_df = pd.DataFrame(student_dict)\n",
    "print(student_df)\n",
    "\n",
    "# rename column\n",
    "student_df = student_df.rename(columns={'Marks': 'Percentage'})\n",
    "print(student_df)"
   ]
  },
  {
   "cell_type": "markdown",
   "metadata": {
    "lang": "fr"
   },
   "source": [
    "## Joindre DataFrame\n",
    "\n",
    "Dans la plupart des cas d'utilisation de Data Analytics, les données sont collectées à partir de plusieurs sources et nous devons combiner ces données pour une analyse plus approfondie. Dans de tels cas, des opérations de jointure et de fusion sont nécessaires.\n",
    "\n",
    "**`DataFrame.join()`** La fonction est utilisée pour joindre un DataFrame avec un autre DataFrame en tant que **`df1.join(df2)`**"
   ]
  },
  {
   "cell_type": "markdown",
   "metadata": {
    "lang": "fr"
   },
   "source": [
    "Dans l'exemple ci-dessous, nous avons joint deux DataFrames différents pour créer un nouveau DataFrame résultant."
   ]
  },
  {
   "cell_type": "code",
   "execution_count": 37,
   "metadata": {
    "ExecuteTime": {
     "end_time": "2021-07-06T16:31:47.608934Z",
     "start_time": "2021-07-06T16:31:47.442917Z"
    }
   },
   "outputs": [
    {
     "name": "stdout",
     "output_type": "stream",
     "text": [
      "     Name  Age\n",
      "0  Diallo   20\n",
      "1     Bah   21\n",
      "   Marks\n",
      "0   85.1\n",
      "1   77.8\n",
      "     Name  Age  Marks\n",
      "0  Diallo   20   85.1\n",
      "1     Bah   21   77.8\n"
     ]
    }
   ],
   "source": [
    "import pandas as pd\n",
    "\n",
    "# creer un dataframe a partir d'un dictionnaire \n",
    "student_dict = {'Name': ['Diallo', 'Bah'], 'Age': [20, 21]}\n",
    "student_df = pd.DataFrame(student_dict)\n",
    "print(student_df)\n",
    "\n",
    "# creer un dataframe a partir d'un dictionnaire \n",
    "marks_dict = {'Marks': [85.10, 77.80]}\n",
    "marks_df = pd.DataFrame(marks_dict)\n",
    "print(marks_df)\n",
    "\n",
    "# joindre les dfs\n",
    "joined_df = student_df.join(marks_df)\n",
    "print(joined_df)"
   ]
  },
  {
   "cell_type": "markdown",
   "metadata": {
    "lang": "fr"
   },
   "source": [
    "## DataFrame GroupBy\n",
    "\n",
    "L'opération **`GroupBy`** consiste à diviser les données, puis à les combiner en fonction de certaines conditions. Les données volumineuses peuvent être divisées en groupes logiques pour les analyser.\n",
    "\n",
    "La fonction **`DataFrame.groupby()`** regroupe le DataFrame par ligne ou par colonne en fonction de la condition."
   ]
  },
  {
   "cell_type": "markdown",
   "metadata": {
    "lang": "fr"
   },
   "source": [
    "Si nous voulons analyser les notes moyennes de chaque classe, nous devons combiner les données des élèves en fonction de la colonne \"Classe\" et calculer sa moyenne en utilisant **`df.groupby(col_label).mean()`** comme montré dans l'exemple ci-dessous."
   ]
  },
  {
   "cell_type": "code",
   "execution_count": 21,
   "metadata": {
    "ExecuteTime": {
     "end_time": "2021-07-06T16:31:47.771530Z",
     "start_time": "2021-07-06T16:31:47.625535Z"
    }
   },
   "outputs": [
    {
     "name": "stdout",
     "output_type": "stream",
     "text": [
      "     Name Class  Marks\n",
      "0  Diallo     A  85.10\n",
      "1     Bah     B  77.80\n",
      "2  Ndiaye     A  91.54\n",
      "     Name Class  Marks\n",
      "0  Diallo     A  85.10\n",
      "1     Bah     B  77.80\n",
      "2  Ndiaye     A  91.54\n"
     ]
    }
   ],
   "source": [
    "import pandas as pd\n",
    "\n",
    "# Creer un dataframe a partir d'un dictionnaire\n",
    "student_dict = {'Name': ['Diallo', 'Bah', 'Ndiaye'], 'Class': ['A', 'B', 'A'], 'Marks': [85.10, 77.80, 91.54]}\n",
    "student_df = pd.DataFrame(student_dict)\n",
    "print(student_df)\n",
    "\n",
    "# appliquer group by \n",
    "student_df.groupby('Class')['Marks'].mean()\n",
    "print(student_df)"
   ]
  },
  {
   "cell_type": "markdown",
   "metadata": {
    "lang": "fr"
   },
   "source": [
    "## Itération de DataFrame\n",
    "\n",
    "L'itération DataFrame signifie visiter chaque élément du DataFrame un par un. Lors de l'analyse d'un DataFrame, nous devrons peut-être parcourir chaque ligne du DataFrame.\n",
    "\n",
    "Il existe plusieurs façons d'itérer un DataFrame. Nous verrons la fonction **`DataFrame.iterrows()`**, qui peut boucler une DataFrame ligne par ligne. Il renvoie l'index et la ligne du DataFrame à chaque itération de la boucle for."
   ]
  },
  {
   "cell_type": "code",
   "execution_count": 39,
   "metadata": {
    "ExecuteTime": {
     "end_time": "2021-07-06T16:31:47.879924Z",
     "start_time": "2021-07-06T16:31:47.774458Z"
    }
   },
   "outputs": [
    {
     "name": "stdout",
     "output_type": "stream",
     "text": [
      "0 Name     Diallo\n",
      "Age          20\n",
      "Marks        85\n",
      "Name: 0, dtype: object\n",
      "1 Name     Bah\n",
      "Age       21\n",
      "Marks     77\n",
      "Name: 1, dtype: object\n"
     ]
    }
   ],
   "source": [
    "import pandas as pd\n",
    "\n",
    "# Creer un dictionnaire a partir d'un dictionnaire\n",
    "student_dict = {'Name': ['Diallo', 'Bah'], 'Age': [20, 21], 'Marks': [85, 77]}\n",
    "student_df = pd.DataFrame(student_dict)\n",
    "\n",
    "# Iterer toutes les lignes du dataframe\n",
    "for index, row in student_df.iterrows():\n",
    "    print(index, row)"
   ]
  },
  {
   "cell_type": "markdown",
   "metadata": {
    "lang": "fr"
   },
   "source": [
    "## Tri des dataframes\n",
    "\n",
    "Le Data Analyst doit toujours effectuer différentes opérations sur les données sous-jacentes telles que la fusion, le tri, la concaténation, etc. L'opération la plus fréquemment utilisée est le tri des données. Les données triées deviennent faciles à analyser et à déduire.\n",
    "\n",
    "La fonction **`DataFrame.sort_values()`** est utilisée pour trier le DataFrame en utilisant une ou plusieurs colonnes dans l'ordre croissant (par défaut) ou décroissant."
   ]
  },
  {
   "cell_type": "markdown",
   "metadata": {
    "lang": "fr"
   },
   "source": [
    "Dans l'exemple ci-dessous, nous trions les données des étudiants en fonction des '**Marks**'."
   ]
  },
  {
   "cell_type": "code",
   "execution_count": 22,
   "metadata": {
    "ExecuteTime": {
     "end_time": "2021-07-06T16:31:48.006395Z",
     "start_time": "2021-07-06T16:31:47.884810Z"
    }
   },
   "outputs": [
    {
     "name": "stdout",
     "output_type": "stream",
     "text": [
      "     Name  Age  Marks\n",
      "0  Diallo   20  85.10\n",
      "1     Bah   21  77.80\n",
      "2  Ndiaye   19  91.54\n",
      "     Name  Age  Marks\n",
      "1     Bah   21  77.80\n",
      "0  Diallo   20  85.10\n",
      "2  Ndiaye   19  91.54\n"
     ]
    }
   ],
   "source": [
    "import pandas as pd\n",
    "\n",
    "# Creer un dataframe a partir d'un dictionnaire\n",
    "student_dict = {'Name': ['Diallo', 'Bah', 'Ndiaye'], 'Age': [20, 21, 19], 'Marks': [85.10, 77.80, 91.54]}\n",
    "student_df = pd.DataFrame(student_dict)\n",
    "print(student_df)\n",
    "\n",
    "# trier par la colonne 'Marks'\n",
    "student_df = student_df.sort_values(by=['Marks'])\n",
    "print(student_df)"
   ]
  },
  {
   "cell_type": "markdown",
   "metadata": {
    "lang": "fr"
   },
   "source": [
    "## Conversion de DataFrame\n",
    "\n",
    "Après tout le traitement sur DataFrame, nous obtiendrons les données attendues dans le DataFrame. Mais, nous pouvons avoir besoin de reconvertir le DataFrame dans ses formats d'origine comme le fichier CSV ou **`dict`**, ou nous pouvons avoir besoin de le convertir dans un autre format pour une action ultérieure comme le stocker dans la base de données en tant que Format de tableau SQL.\n",
    "\n",
    "Pandas fournit de nombreuses fonctions pour convertir les DataFrames dans de nombreux formats différents."
   ]
  },
  {
   "cell_type": "markdown",
   "metadata": {
    "lang": "fr"
   },
   "source": [
    "Par exemple, la fonction **`DataFrame.to_dict()`** est utilisée pour convertir le **[DataFrame en un dictionnaire Python](001_Python_Pandas_Methods/008_Python_Pandas_DataFrame_to_Python_dictionary.ipynb)** objet.\n",
    "\n",
    "Vous trouverez ci-dessous l'exemple d'un DataFrame que nous devons convertir en Python **`dict`**.\n",
    "\n",
    "```python\n",
    "    Name  Class Marks\n",
    "0    Joe     A  85.10\n",
    "1    Nat     B  77.80\n",
    "2  Harry     A  91.54\n",
    "```"
   ]
  },
  {
   "cell_type": "markdown",
   "metadata": {
    "lang": "fr"
   },
   "source": [
    "Voyons comment nous pouvons utiliser la fonction **`DataFrame.to_dict()`** pour convertir le DataFrame dans le dictionnaire Python. Par défaut, il crée le dictionnaire avec des clés comme étiquettes de colonne et des valeurs comme mappage de l'index de ligne et des données."
   ]
  },
  {
   "cell_type": "code",
   "execution_count": 52,
   "metadata": {
    "ExecuteTime": {
     "end_time": "2021-07-06T16:31:48.131391Z",
     "start_time": "2021-07-06T16:31:48.014205Z"
    }
   },
   "outputs": [
    {
     "name": "stdout",
     "output_type": "stream",
     "text": [
      "{'Name': {2: 'Ndiaye', 0: 'Diallo', 1: 'Bah'}, 'Age': {2: 19, 0: 20, 1: 21}, 'Marks': {2: 91.54, 0: 85.1, 1: 77.8}}\n"
     ]
    }
   ],
   "source": [
    "# convertir un dataframe en dictionnaire\n",
    "dict = student_df.to_dict()\n",
    "print(dict)\n",
    "\n"
   ]
  },
  {
   "cell_type": "markdown",
   "metadata": {
    "lang": "fr"
   },
   "source": [
    "# Résumé:"
   ]
  },
  {
   "cell_type": "markdown",
   "metadata": {
    "lang": "fr"
   },
   "source": [
    "## Créer des objets de test\n",
    "\n",
    "| Opérateur | Description |\n",
    "|:---- |:---- |\n",
    "| **`pd.DataFrame(np.random.rand(20,5))`** | **5 colonnes et 20 lignes de flottants aléatoires** |\n",
    "| **`pd.Series(my_list)`** | **Créer une série à partir d'une my_list itérable** |\n",
    "| **`df.index = pd.date_range('1900/1/30', périodes=df.shape[0])`** | **Ajouter un index de date** |"
   ]
  },
  {
   "cell_type": "markdown",
   "metadata": {
    "lang": "fr"
   },
   "source": [
    "## Affichage/Inspection des données\n",
    "\n",
    "| Opérateur | Description |\n",
    "|:---- |:---- |\n",
    "| **`df.head(n)`** | **Premières n lignes du DataFrame** |\n",
    "| **`df.tail(n)`** | **Dernières n lignes du DataFrame** |\n",
    "| **`df.shape`** | **Nombre de lignes et de colonnes** |\n",
    "| **`df.info()`** | **Informations sur l'index, le type de données et la mémoire** |\n",
    "| **`df.describe()`** | **Statistiques récapitulatives pour les colonnes numériques** |\n",
    "| **`s.value_counts(dropna=False)`** | **Afficher les valeurs et les nombres uniques** |\n",
    "| **`df.apply(pd.Series.value_counts)`** | **Valeurs et nombres uniques pour toutes les colonnes** |"
   ]
  },
  {
   "cell_type": "markdown",
   "metadata": {
    "lang": "fr"
   },
   "source": [
    "## Sélection\n",
    "\n",
    "| Opérateur | Description |\n",
    "|:---- |:---- |\n",
    "| **`df[col]`** | **Renvoie la colonne avec l'étiquette col comme Series** |\n",
    "| **`df[[col1, col2]]`** | **Renvoie les colonnes sous la forme d'un nouveau DataFrame** |\n",
    "| **`s.iloc[0]`** | **Sélection par position** |\n",
    "| **`s.loc['index_one']`** | **Sélection par index** |\n",
    "| **`df.iloc[0,:]`** | **première ligne** |\n",
    "| **`df.iloc[0,0]`** | **Premier élément de la première colonne** |"
   ]
  },
  {
   "cell_type": "markdown",
   "metadata": {
    "lang": "fr"
   },
   "source": [
    "## Nettoyage des données\n",
    "\n",
    "| Opérateur | Description |\n",
    "|:---- |:---- |\n",
    "| **`df.columns = ['a','b','c']`** | **Renommer les colonnes** |\n",
    "| **`pd.isnull()`** | **Vérifie les valeurs nulles, renvoie un tableau booléen** |\n",
    "| **`pd.notnull()`** | **Opposé de pd.isnull()** |\n",
    "| **`df.dropna()`** | **Supprimer toutes les lignes contenant des valeurs nulles** |\n",
    "| **`df.dropna(axis=1)`** | **Supprimer toutes les colonnes contenant des valeurs nulles** |\n",
    "| **`df.dropna(axis=1,thresh=n)`** | **Supprimer toutes les lignes ont moins de n valeurs non nulles** |\n",
    "| **`df.fillna(x)`** | **Remplacer toutes les valeurs nulles par x** |\n",
    "| **`s.fillna(s.mean())`** | **Remplacer toutes les valeurs nulles par la moyenne** |\n",
    "| **`s.astype(float)`** | **Convertir le type de données de la série en float** |\n",
    "| **`s.replace(1,'one')`** | **Remplacer toutes les valeurs égales à 1 par 'one'** |\n",
    "| **`s.replace([2,3],['two', 'three'])`** | **Remplacer tous les 2 par 'two' et 3 par 'three'** |\n",
    "| **`df.rename(columns=lambda x: x + 1)`** | **Renommage en masse des colonnes** |\n",
    "| **`df.rename(columns={'old_name': 'new_ name'})`** | **Renommage sélectif** |\n",
    "| **`df.set_index('column_one')`** | **Modifier l'index** |\n",
    "| **`df.rename(index=lambda x : x + 1)`** | **Renommer en masse l'index** |"
   ]
  },
  {
   "cell_type": "markdown",
   "metadata": {
    "lang": "fr"
   },
   "source": [
    "## Filtrer, Trier et Regrouper\n",
    "\n",
    "| Opérateur | Description |\n",
    "|:---- |:---- |\n",
    "| **`df[df[col] > 0.6]`** | **Lignes où la colonne col est supérieure à 0.6** |\n",
    "| **`df[(df[col] > 0.6) & (df[col] < 0.8)]`** | **Lignes où 0.8 > col > 0.6** |\n",
    "| **`df.sort_values(col1)`** | **Trier les valeurs par col1 dans l'ordre croissant** |\n",
    "| **`df.sort_values(col2,ascending=False)`** | **Trier les valeurs par col2 dans l'ordre décroissant.5** |\n",
    "| **`df.sort_values([col1,col2],ascending=[True,False])`** | **Trier les valeurs par col1 dans l'ordre croissant puis col2 dans l'ordre décroissant** |\n",
    "| **`df.groupby(col)`** | **Renvoie un objet groupby pour les valeurs d'une colonne** |\n",
    "| **`df.groupby([col1,col2])`** | **Renvoie l'objet groupby pour les valeurs de plusieurs colonnes** |\n",
    "| **`df.groupby(col1)[col2]`** | **Renvoie la moyenne des valeurs de col2, regroupées par les valeurs de col1** |\n",
    "| **`df.pivot_table(index=col1,values=[col2,col3],aggfunc=mean)`** | **Créer un tableau croisé dynamique qui regroupe par col1 et calcule la moyenne de col2 et col3** |\n",
    "|**`df.groupby(col1).agg(np.mean)`**|**Trouvez la moyenne sur toutes les colonnes pour chaque groupe col1 unique**|\n",
    "|**`df.apply(np.mean)`**|**Appliquer la fonction np.mean() sur chaque colonne** |\n",
    "|**`nf.apply(np.max,axis=1)`** |**Appliquez la fonction np.max() sur chaque ligne** |"
   ]
  },
  {
   "cell_type": "markdown",
   "metadata": {
    "lang": "fr"
   },
   "source": [
    "## Joindre/Combiner\n",
    "\n",
    "| Opérateur | Description |\n",
    "|:---- |:---- |\n",
    "| **`df1.append(df2)`** | **Ajouter les lignes de df1 à la fin de df2 (les colonnes doivent être identiques)** |\n",
    "| **`pd.concat([df1, df2],axis=1)`** | **Ajouter les colonnes de df1 à la fin de df2 (les lignes doivent être identiques)** |\n",
    "| **`df1.join(df2,on=col1, how='inner')`** | **Joindre de style SQL les colonnes de df1 avec les colonnes de df2 où les lignes pour col ont des valeurs identiques. Le 'how' peut être 'gauche', 'droit', 'extérieur' ou 'intérieur'** |"
   ]
  },
  {
   "cell_type": "markdown",
   "metadata": {
    "lang": "fr"
   },
   "source": [
    "## Statistiques\n",
    "\n",
    "| Opérateur | Description |\n",
    "|:---- |:---- |\n",
    "| **`df.describe()`** | **Statistiques récapitulatives pour les colonnes numériques** |\n",
    "| **`df.mean()`** | **Renvoie la moyenne de toutes les colonnes** |\n",
    "| **`df.corr()`** | **Renvoie la corrélation entre les colonnes d'un DataFrame** |\n",
    "| **`df.count()`** | **Renvoie le nombre de valeurs non nulles dans chaque colonne DataFrame** |\n",
    "| **`df.max()`** | **Renvoie la valeur la plus élevée dans chaque colonne** |\n",
    "| **`df.min()`** | **Renvoie la valeur la plus basse dans chaque colonne** |\n",
    "| **`df.median()`** | **Renvoie la médiane de chaque colonne** |\n",
    "| **`df.std()`** | **Renvoie l'écart type de chaque colonne** |"
   ]
  },
  {
   "cell_type": "markdown",
   "metadata": {
    "lang": "fr"
   },
   "source": [
    "## Importation de données\n",
    "\n",
    "| Opérateur | Description |\n",
    "|:---- |:---- |\n",
    "| **`pd.read_csv(filename)`** || **Depuis un fichier CSV** |\n",
    "| **`pd.read_table(filename)`** | **À partir d'un fichier texte délimité (comme TSV)** |\n",
    "| **`pd.read_excel(filename)`** | **Depuis un fichier Excel** |\n",
    "| **`pd.read_sql(query, connection_object)`** | **Lire depuis une table/base de données SQL** |\n",
    "| **`pd.read_json(json_string)`** | **Lire à partir d'une chaîne, d'une URL ou d'un fichier au format JSON.** |\n",
    "| **`pd.read_html(url)`** | **Analyse une URL HTML, une chaîne ou un fichier et extrait des tables vers une liste de dataframes** |\n",
    "| **`pd.read_clipboard()`** | **Prend le contenu de votre presse-papiers et le passe à read_table()** |\n",
    "| **`pd.DataFrame(dict)`** | **À partir d'un dict, clés pour les noms de colonnes, valeurs pour les données sous forme de listes** |"
   ]
  },
  {
   "cell_type": "markdown",
   "metadata": {
    "lang": "fr"
   },
   "source": [
    "## Exportation de données\n",
    "\n",
    "| Opérateur | Description |\n",
    "|:---- |:---- |\n",
    "| **`df.to_csv(filename)`** | **Écrire dans un fichier CSV** |\n",
    "| **`df.to_excel(filename)`** | **Écrire dans un fichier Excel** |\n",
    "| **`df.to_sql(table_name, connection_object)`** | **Écrire dans une table SQL** |\n",
    "| **`df.to_json(filename)`** | **Écrire dans un fichier au format JSON** |"
   ]
  },
  {
   "cell_type": "code",
   "execution_count": null,
   "metadata": {},
   "outputs": [],
   "source": []
  }
 ],
 "metadata": {
  "hide_input": false,
  "kernelspec": {
   "display_name": "Python 3 (ipykernel)",
   "language": "python",
   "name": "python3"
  },
  "language_info": {
   "codemirror_mode": {
    "name": "ipython",
    "version": 3
   },
   "file_extension": ".py",
   "mimetype": "text/x-python",
   "name": "python",
   "nbconvert_exporter": "python",
   "pygments_lexer": "ipython3",
   "version": "3.12.9"
  },
  "nbTranslate": {
   "displayLangs": [
    "*"
   ],
   "hotkey": "alt-t",
   "langInMainMenu": true,
   "sourceLang": "en",
   "targetLang": "fr",
   "useGoogleTranslate": true
  },
  "toc": {
   "base_numbering": 1,
   "nav_menu": {},
   "number_sections": true,
   "sideBar": true,
   "skip_h1_title": false,
   "title_cell": "Table of Contents",
   "title_sidebar": "Contents",
   "toc_cell": false,
   "toc_position": {},
   "toc_section_display": true,
   "toc_window_display": false
  },
  "varInspector": {
   "cols": {
    "lenName": 16,
    "lenType": 16,
    "lenVar": 40
   },
   "kernels_config": {
    "python": {
     "delete_cmd_postfix": "",
     "delete_cmd_prefix": "del ",
     "library": "var_list.py",
     "varRefreshCmd": "print(var_dic_list())"
    },
    "r": {
     "delete_cmd_postfix": ") ",
     "delete_cmd_prefix": "rm(",
     "library": "var_list.r",
     "varRefreshCmd": "cat(var_dic_list()) "
    }
   },
   "types_to_exclude": [
    "module",
    "function",
    "builtin_function_or_method",
    "instance",
    "_Feature"
   ],
   "window_display": false
  }
 },
 "nbformat": 4,
 "nbformat_minor": 4
}
